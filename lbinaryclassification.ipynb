{
  "cells": [
    {
      "cell_type": "markdown",
      "metadata": {
        "id": "view-in-github",
        "colab_type": "text"
      },
      "source": [
        "<a href=\"https://colab.research.google.com/github/Avanish023/Machine-learning-data--science/blob/master/lbinaryclassification.ipynb\" target=\"_parent\"><img src=\"https://colab.research.google.com/assets/colab-badge.svg\" alt=\"Open In Colab\"/></a>"
      ]
    },
    {
      "cell_type": "code",
      "source": [
        "import pandas as pd\n",
        "import seaborn as sns"
      ],
      "metadata": {
        "id": "fICkFa6fxvQu"
      },
      "execution_count": 14,
      "outputs": []
    },
    {
      "cell_type": "code",
      "source": [
        "###### reading dataset\n",
        "data=pd.read_csv(\"/Dataset (1).csv\")\n",
        "pincodes=pd.read_csv(\"pincodes.csv\")#####external dataset"
      ],
      "metadata": {
        "id": "7FkThDslx3w3"
      },
      "execution_count": 3,
      "outputs": []
    },
    {
      "cell_type": "code",
      "source": [
        "#####basic eda"
      ],
      "metadata": {
        "id": "yg0fgJSYyRU3"
      },
      "execution_count": 4,
      "outputs": []
    },
    {
      "cell_type": "code",
      "source": [
        "data.describe()"
      ],
      "metadata": {
        "colab": {
          "base_uri": "https://localhost:8080/",
          "height": 364
        },
        "id": "DJMXWdhYyTwc",
        "outputId": "a4831b7b-a348-4c2f-bf0a-a075c535492e"
      },
      "execution_count": 5,
      "outputs": [
        {
          "output_type": "execute_result",
          "data": {
            "text/plain": [
              "                id       pin_code  down_payment  loan_int_rate        tenure  \\\n",
              "count  15000.00000   15000.000000  14954.000000   15000.000000  15000.000000   \n",
              "mean    9109.69580  468939.833800    277.244148      38.262135     43.636933   \n",
              "std     5278.55478  203155.744075   2019.157606       3.027804      4.659975   \n",
              "min        1.00000  110001.000000      0.000000       2.000000     39.000000   \n",
              "25%     4522.25000  331951.500000      0.000000      38.000000     39.000000   \n",
              "50%     9113.50000  500050.000000      0.000000      38.240000     42.000000   \n",
              "75%    13678.25000  591103.500000      0.000000      38.240000     49.000000   \n",
              "max    18267.00000  855113.000000  43223.994000      58.000000     75.000000   \n",
              "\n",
              "         loan_amount    birth_year  bureau_credit_score  moratorium_optin  \n",
              "count   15000.000000  15000.000000         14589.000000      15000.000000  \n",
              "mean    14718.962401   1988.788000           595.416547          0.234267  \n",
              "std     25690.265686      7.498142           222.771374          0.423554  \n",
              "min       295.531800   1954.000000           300.000000          0.000000  \n",
              "25%      4739.040000   1985.000000           300.000000          0.000000  \n",
              "50%      7898.400000   1990.000000           704.000000          0.000000  \n",
              "75%     13822.200000   1994.000000           783.000000          0.000000  \n",
              "max    296190.000000   2002.000000           900.000000          1.000000  "
            ],
            "text/html": [
              "\n",
              "  <div id=\"df-4955e359-7bab-4099-9417-5cac220beff4\">\n",
              "    <div class=\"colab-df-container\">\n",
              "      <div>\n",
              "<style scoped>\n",
              "    .dataframe tbody tr th:only-of-type {\n",
              "        vertical-align: middle;\n",
              "    }\n",
              "\n",
              "    .dataframe tbody tr th {\n",
              "        vertical-align: top;\n",
              "    }\n",
              "\n",
              "    .dataframe thead th {\n",
              "        text-align: right;\n",
              "    }\n",
              "</style>\n",
              "<table border=\"1\" class=\"dataframe\">\n",
              "  <thead>\n",
              "    <tr style=\"text-align: right;\">\n",
              "      <th></th>\n",
              "      <th>id</th>\n",
              "      <th>pin_code</th>\n",
              "      <th>down_payment</th>\n",
              "      <th>loan_int_rate</th>\n",
              "      <th>tenure</th>\n",
              "      <th>loan_amount</th>\n",
              "      <th>birth_year</th>\n",
              "      <th>bureau_credit_score</th>\n",
              "      <th>moratorium_optin</th>\n",
              "    </tr>\n",
              "  </thead>\n",
              "  <tbody>\n",
              "    <tr>\n",
              "      <th>count</th>\n",
              "      <td>15000.00000</td>\n",
              "      <td>15000.000000</td>\n",
              "      <td>14954.000000</td>\n",
              "      <td>15000.000000</td>\n",
              "      <td>15000.000000</td>\n",
              "      <td>15000.000000</td>\n",
              "      <td>15000.000000</td>\n",
              "      <td>14589.000000</td>\n",
              "      <td>15000.000000</td>\n",
              "    </tr>\n",
              "    <tr>\n",
              "      <th>mean</th>\n",
              "      <td>9109.69580</td>\n",
              "      <td>468939.833800</td>\n",
              "      <td>277.244148</td>\n",
              "      <td>38.262135</td>\n",
              "      <td>43.636933</td>\n",
              "      <td>14718.962401</td>\n",
              "      <td>1988.788000</td>\n",
              "      <td>595.416547</td>\n",
              "      <td>0.234267</td>\n",
              "    </tr>\n",
              "    <tr>\n",
              "      <th>std</th>\n",
              "      <td>5278.55478</td>\n",
              "      <td>203155.744075</td>\n",
              "      <td>2019.157606</td>\n",
              "      <td>3.027804</td>\n",
              "      <td>4.659975</td>\n",
              "      <td>25690.265686</td>\n",
              "      <td>7.498142</td>\n",
              "      <td>222.771374</td>\n",
              "      <td>0.423554</td>\n",
              "    </tr>\n",
              "    <tr>\n",
              "      <th>min</th>\n",
              "      <td>1.00000</td>\n",
              "      <td>110001.000000</td>\n",
              "      <td>0.000000</td>\n",
              "      <td>2.000000</td>\n",
              "      <td>39.000000</td>\n",
              "      <td>295.531800</td>\n",
              "      <td>1954.000000</td>\n",
              "      <td>300.000000</td>\n",
              "      <td>0.000000</td>\n",
              "    </tr>\n",
              "    <tr>\n",
              "      <th>25%</th>\n",
              "      <td>4522.25000</td>\n",
              "      <td>331951.500000</td>\n",
              "      <td>0.000000</td>\n",
              "      <td>38.000000</td>\n",
              "      <td>39.000000</td>\n",
              "      <td>4739.040000</td>\n",
              "      <td>1985.000000</td>\n",
              "      <td>300.000000</td>\n",
              "      <td>0.000000</td>\n",
              "    </tr>\n",
              "    <tr>\n",
              "      <th>50%</th>\n",
              "      <td>9113.50000</td>\n",
              "      <td>500050.000000</td>\n",
              "      <td>0.000000</td>\n",
              "      <td>38.240000</td>\n",
              "      <td>42.000000</td>\n",
              "      <td>7898.400000</td>\n",
              "      <td>1990.000000</td>\n",
              "      <td>704.000000</td>\n",
              "      <td>0.000000</td>\n",
              "    </tr>\n",
              "    <tr>\n",
              "      <th>75%</th>\n",
              "      <td>13678.25000</td>\n",
              "      <td>591103.500000</td>\n",
              "      <td>0.000000</td>\n",
              "      <td>38.240000</td>\n",
              "      <td>49.000000</td>\n",
              "      <td>13822.200000</td>\n",
              "      <td>1994.000000</td>\n",
              "      <td>783.000000</td>\n",
              "      <td>0.000000</td>\n",
              "    </tr>\n",
              "    <tr>\n",
              "      <th>max</th>\n",
              "      <td>18267.00000</td>\n",
              "      <td>855113.000000</td>\n",
              "      <td>43223.994000</td>\n",
              "      <td>58.000000</td>\n",
              "      <td>75.000000</td>\n",
              "      <td>296190.000000</td>\n",
              "      <td>2002.000000</td>\n",
              "      <td>900.000000</td>\n",
              "      <td>1.000000</td>\n",
              "    </tr>\n",
              "  </tbody>\n",
              "</table>\n",
              "</div>\n",
              "      <button class=\"colab-df-convert\" onclick=\"convertToInteractive('df-4955e359-7bab-4099-9417-5cac220beff4')\"\n",
              "              title=\"Convert this dataframe to an interactive table.\"\n",
              "              style=\"display:none;\">\n",
              "        \n",
              "  <svg xmlns=\"http://www.w3.org/2000/svg\" height=\"24px\"viewBox=\"0 0 24 24\"\n",
              "       width=\"24px\">\n",
              "    <path d=\"M0 0h24v24H0V0z\" fill=\"none\"/>\n",
              "    <path d=\"M18.56 5.44l.94 2.06.94-2.06 2.06-.94-2.06-.94-.94-2.06-.94 2.06-2.06.94zm-11 1L8.5 8.5l.94-2.06 2.06-.94-2.06-.94L8.5 2.5l-.94 2.06-2.06.94zm10 10l.94 2.06.94-2.06 2.06-.94-2.06-.94-.94-2.06-.94 2.06-2.06.94z\"/><path d=\"M17.41 7.96l-1.37-1.37c-.4-.4-.92-.59-1.43-.59-.52 0-1.04.2-1.43.59L10.3 9.45l-7.72 7.72c-.78.78-.78 2.05 0 2.83L4 21.41c.39.39.9.59 1.41.59.51 0 1.02-.2 1.41-.59l7.78-7.78 2.81-2.81c.8-.78.8-2.07 0-2.86zM5.41 20L4 18.59l7.72-7.72 1.47 1.35L5.41 20z\"/>\n",
              "  </svg>\n",
              "      </button>\n",
              "      \n",
              "  <style>\n",
              "    .colab-df-container {\n",
              "      display:flex;\n",
              "      flex-wrap:wrap;\n",
              "      gap: 12px;\n",
              "    }\n",
              "\n",
              "    .colab-df-convert {\n",
              "      background-color: #E8F0FE;\n",
              "      border: none;\n",
              "      border-radius: 50%;\n",
              "      cursor: pointer;\n",
              "      display: none;\n",
              "      fill: #1967D2;\n",
              "      height: 32px;\n",
              "      padding: 0 0 0 0;\n",
              "      width: 32px;\n",
              "    }\n",
              "\n",
              "    .colab-df-convert:hover {\n",
              "      background-color: #E2EBFA;\n",
              "      box-shadow: 0px 1px 2px rgba(60, 64, 67, 0.3), 0px 1px 3px 1px rgba(60, 64, 67, 0.15);\n",
              "      fill: #174EA6;\n",
              "    }\n",
              "\n",
              "    [theme=dark] .colab-df-convert {\n",
              "      background-color: #3B4455;\n",
              "      fill: #D2E3FC;\n",
              "    }\n",
              "\n",
              "    [theme=dark] .colab-df-convert:hover {\n",
              "      background-color: #434B5C;\n",
              "      box-shadow: 0px 1px 3px 1px rgba(0, 0, 0, 0.15);\n",
              "      filter: drop-shadow(0px 1px 2px rgba(0, 0, 0, 0.3));\n",
              "      fill: #FFFFFF;\n",
              "    }\n",
              "  </style>\n",
              "\n",
              "      <script>\n",
              "        const buttonEl =\n",
              "          document.querySelector('#df-4955e359-7bab-4099-9417-5cac220beff4 button.colab-df-convert');\n",
              "        buttonEl.style.display =\n",
              "          google.colab.kernel.accessAllowed ? 'block' : 'none';\n",
              "\n",
              "        async function convertToInteractive(key) {\n",
              "          const element = document.querySelector('#df-4955e359-7bab-4099-9417-5cac220beff4');\n",
              "          const dataTable =\n",
              "            await google.colab.kernel.invokeFunction('convertToInteractive',\n",
              "                                                     [key], {});\n",
              "          if (!dataTable) return;\n",
              "\n",
              "          const docLinkHtml = 'Like what you see? Visit the ' +\n",
              "            '<a target=\"_blank\" href=https://colab.research.google.com/notebooks/data_table.ipynb>data table notebook</a>'\n",
              "            + ' to learn more about interactive tables.';\n",
              "          element.innerHTML = '';\n",
              "          dataTable['output_type'] = 'display_data';\n",
              "          await google.colab.output.renderOutput(dataTable, element);\n",
              "          const docLink = document.createElement('div');\n",
              "          docLink.innerHTML = docLinkHtml;\n",
              "          element.appendChild(docLink);\n",
              "        }\n",
              "      </script>\n",
              "    </div>\n",
              "  </div>\n",
              "  "
            ]
          },
          "metadata": {},
          "execution_count": 5
        }
      ]
    },
    {
      "cell_type": "code",
      "source": [
        "data.shape"
      ],
      "metadata": {
        "colab": {
          "base_uri": "https://localhost:8080/"
        },
        "id": "z1Nu9HCayWQo",
        "outputId": "1e7c1272-afa9-4e31-fd2e-41dcc5ee070c"
      },
      "execution_count": 7,
      "outputs": [
        {
          "output_type": "execute_result",
          "data": {
            "text/plain": [
              "(15000, 13)"
            ]
          },
          "metadata": {},
          "execution_count": 7
        }
      ]
    },
    {
      "cell_type": "code",
      "source": [
        "data.isna().sum()"
      ],
      "metadata": {
        "colab": {
          "base_uri": "https://localhost:8080/"
        },
        "id": "7bu9PnK7yYmm",
        "outputId": "b2f858d9-e6bf-49a8-c256-716cd3983e4a"
      },
      "execution_count": 8,
      "outputs": [
        {
          "output_type": "execute_result",
          "data": {
            "text/plain": [
              "id                       0\n",
              "pin_code                 0\n",
              "down_payment            46\n",
              "loan_int_rate            0\n",
              "tenure                   0\n",
              "loan_amount              0\n",
              "sector                   0\n",
              "mandate_source         281\n",
              "gender                   1\n",
              "city                     0\n",
              "birth_year               0\n",
              "bureau_credit_score    411\n",
              "moratorium_optin         0\n",
              "dtype: int64"
            ]
          },
          "metadata": {},
          "execution_count": 8
        }
      ]
    },
    {
      "cell_type": "code",
      "source": [
        "##### finding unique values in each column\n",
        "for i in data.columns:\n",
        "  print(i, len(data[i].unique()))"
      ],
      "metadata": {
        "colab": {
          "base_uri": "https://localhost:8080/"
        },
        "id": "6F5zZFZdy4xr",
        "outputId": "1e739d6b-1be5-4dcc-9323-a48219bf5f24"
      },
      "execution_count": 9,
      "outputs": [
        {
          "output_type": "stream",
          "name": "stdout",
          "text": [
            "id 15000\n",
            "pin_code 5593\n",
            "down_payment 185\n",
            "loan_int_rate 22\n",
            "tenure 13\n",
            "loan_amount 3969\n",
            "sector 7\n",
            "mandate_source 6\n",
            "gender 3\n",
            "city 1325\n",
            "birth_year 49\n",
            "bureau_credit_score 404\n",
            "moratorium_optin 2\n"
          ]
        }
      ]
    },
    {
      "cell_type": "code",
      "source": [
        "##### filling up the missing values \n",
        "#### for catagorical with mode and for numerical with\n",
        "data['down_payment'].fillna(data['down_payment'].mean(),inplace=True)\n",
        "data['bureau_credit_score'].fillna(data['bureau_credit_score'].mean(),inplace=True)\n",
        "data['mandate_source'].fillna(data['mandate_source'].mode(),inplace=True)"
      ],
      "metadata": {
        "id": "cz_eWK6ezFK3"
      },
      "execution_count": 13,
      "outputs": []
    },
    {
      "cell_type": "code",
      "source": [
        "######## univariate analysis"
      ],
      "metadata": {
        "id": "E5W4Lyl4ybng"
      },
      "execution_count": null,
      "outputs": []
    },
    {
      "cell_type": "code",
      "source": [
        "sns.countplot(data=data,x='gender')"
      ],
      "metadata": {
        "colab": {
          "base_uri": "https://localhost:8080/",
          "height": 298
        },
        "id": "WBmR3KyxyeM_",
        "outputId": "8c78c8c8-43d4-45e6-be9f-3f405f411683"
      },
      "execution_count": 15,
      "outputs": [
        {
          "output_type": "execute_result",
          "data": {
            "text/plain": [
              "<matplotlib.axes._subplots.AxesSubplot at 0x7fe665b35b20>"
            ]
          },
          "metadata": {},
          "execution_count": 15
        },
        {
          "output_type": "display_data",
          "data": {
            "text/plain": [
              "<Figure size 432x288 with 1 Axes>"
            ],
            "image/png": "[encoded data removed]"
          },
          "metadata": {
            "needs_background": "light"
          }
        }
      ]
    },
    {
      "cell_type": "code",
      "source": [
        "sns.countplot(data=data,x='sector')"
      ],
      "metadata": {
        "colab": {
          "base_uri": "https://localhost:8080/",
          "height": 296
        },
        "id": "eFQ0K6Oo0XmR",
        "outputId": "51352cfc-a480-4611-cc5f-b218dc7aa6d5"
      },
      "execution_count": 16,
      "outputs": [
        {
          "output_type": "execute_result",
          "data": {
            "text/plain": [
              "<matplotlib.axes._subplots.AxesSubplot at 0x7fe6657b4250>"
            ]
          },
          "metadata": {},
          "execution_count": 16
        },
        {
          "output_type": "display_data",
          "data": {
            "text/plain": [
              "<Figure size 432x288 with 1 Axes>"
            ],
            "image/png": "[encoded data removed]"
          },
          "metadata": {
            "needs_background": "light"
          }
        }
      ]
    },
    {
      "cell_type": "code",
      "source": [
        "sns.countplot(data=data,x='mandate_source')\n"
      ],
      "metadata": {
        "colab": {
          "base_uri": "https://localhost:8080/",
          "height": 297
        },
        "id": "Zsr4LwWg0gU1",
        "outputId": "a894a2cc-7c95-40fa-d5e8-de493f852fa4"
      },
      "execution_count": 17,
      "outputs": [
        {
          "output_type": "execute_result",
          "data": {
            "text/plain": [
              "<matplotlib.axes._subplots.AxesSubplot at 0x7fe6652de8e0>"
            ]
          },
          "metadata": {},
          "execution_count": 17
        },
        {
          "output_type": "display_data",
          "data": {
            "text/plain": [
              "<Figure size 432x288 with 1 Axes>"
            ],
            "image/png": "[encoded data removed]"
          },
          "metadata": {
            "needs_background": "light"
          }
        }
      ]
    },
    {
      "cell_type": "code",
      "source": [
        "\n",
        "sns.countplot(data=data,x='moratorium_optin')\n"
      ],
      "metadata": {
        "colab": {
          "base_uri": "https://localhost:8080/",
          "height": 300
        },
        "id": "Oo5oigXO0sz6",
        "outputId": "c78fd72f-02c9-4a31-bc14-dcb75b9fb841"
      },
      "execution_count": 18,
      "outputs": [
        {
          "output_type": "execute_result",
          "data": {
            "text/plain": [
              "<matplotlib.axes._subplots.AxesSubplot at 0x7fe6652425e0>"
            ]
          },
          "metadata": {},
          "execution_count": 18
        },
        {
          "output_type": "display_data",
          "data": {
            "text/plain": [
              "<Figure size 432x288 with 1 Axes>"
            ],
            "image/png": "[encoded data removed]"
          },
          "metadata": {
            "needs_background": "light"
          }
        }
      ]
    },
    {
      "cell_type": "code",
      "source": [
        "##### there more than 5000 pincodes and 1500 cites , will create some "
      ],
      "metadata": {
        "id": "u5wn8eaM03j4"
      },
      "execution_count": null,
      "outputs": []
    }
  ],
  "metadata": {
    "colab": {
      "name": "Welcome To Colaboratory",
      "provenance": [],
      "include_colab_link": true
    },
    "kernelspec": {
      "display_name": "Python 3",
      "name": "python3"
    }
  },
  "nbformat": 4,
  "nbformat_minor": 0
}