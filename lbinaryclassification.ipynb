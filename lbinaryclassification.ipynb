{
  "cells": [
    {
      "cell_type": "markdown",
      "metadata": {
        "id": "view-in-github",
        "colab_type": "text"
      },
      "source": [
        "<a href=\"https://colab.research.google.com/github/Avanish023/Machine-learning-data--science/blob/master/lbinaryclassification.ipynb\" target=\"_parent\"><img src=\"https://colab.research.google.com/assets/colab-badge.svg\" alt=\"Open In Colab\"/></a>"
      ]
    },
    {
      "cell_type": "code",
      "source": [
        "import pandas as pd\n",
        "import seaborn as sns\n",
        "import matplotlib.pyplot as plt\n",
        "import numpy as np\n",
        "from sklearn import preprocessing\n",
        "from sklearn.linear_model import LogisticRegression\n",
        "from sklearn.feature_selection import RFE\n",
        "from sklearn.model_selection import train_test_split\n",
        "from sklearn.metrics import accuracy_score, f1_score,recall_score,precision_score, confusion_matrix,classification_report\n",
        "from sklearn.ensemble import RandomForestClassifier\n",
        "from sklearn import svm\n",
        "from sklearn.svm import SVC\n",
        "\n"
      ],
      "metadata": {
        "id": "fICkFa6fxvQu"
      },
      "execution_count": 75,
      "outputs": []
    },
    {
      "cell_type": "code",
      "source": [
        "###### reading dataset\n",
        "data=pd.read_csv(\"//content/Dataset (1).csv\")\n",
        "pincodes=pd.read_csv(\"//content//pincodes.csv\")#####external dataset\n",
        "covid_data=pd.read_csv(\"//content//covid.csv\")"
      ],
      "metadata": {
        "id": "7FkThDslx3w3"
      },
      "execution_count": 2,
      "outputs": []
    },
    {
      "cell_type": "code",
      "source": [
        "#####basic eda"
      ],
      "metadata": {
        "id": "yg0fgJSYyRU3"
      },
      "execution_count": 3,
      "outputs": []
    },
    {
      "cell_type": "code",
      "source": [
        "data.describe()"
      ],
      "metadata": {
        "colab": {
          "base_uri": "https://localhost:8080/",
          "height": 300
        },
        "id": "DJMXWdhYyTwc",
        "outputId": "2ea99640-bc86-424a-9ef5-1cbbe5b4a12c"
      },
      "execution_count": 4,
      "outputs": [
        {
          "output_type": "execute_result",
          "data": {
            "text/plain": [
              "                id       pin_code  down_payment  loan_int_rate        tenure  \\\n",
              "count  15000.00000   15000.000000  14954.000000   15000.000000  15000.000000   \n",
              "mean    9109.69580  468939.833800    277.244148      38.262135     43.636933   \n",
              "std     5278.55478  203155.744075   2019.157606       3.027804      4.659975   \n",
              "min        1.00000  110001.000000      0.000000       2.000000     39.000000   \n",
              "25%     4522.25000  331951.500000      0.000000      38.000000     39.000000   \n",
              "50%     9113.50000  500050.000000      0.000000      38.240000     42.000000   \n",
              "75%    13678.25000  591103.500000      0.000000      38.240000     49.000000   \n",
              "max    18267.00000  855113.000000  43223.994000      58.000000     75.000000   \n",
              "\n",
              "         loan_amount    birth_year  bureau_credit_score  moratorium_optin  \n",
              "count   15000.000000  15000.000000         14589.000000      15000.000000  \n",
              "mean    14718.962401   1988.788000           595.416547          0.234267  \n",
              "std     25690.265686      7.498142           222.771374          0.423554  \n",
              "min       295.531800   1954.000000           300.000000          0.000000  \n",
              "25%      4739.040000   1985.000000           300.000000          0.000000  \n",
              "50%      7898.400000   1990.000000           704.000000          0.000000  \n",
              "75%     13822.200000   1994.000000           783.000000          0.000000  \n",
              "max    296190.000000   2002.000000           900.000000          1.000000  "
            ],
            "text/html": [
              "\n",
              "  <div id=\"df-8a9ecdfa-8e99-4f5f-80ea-e7ad88552903\">\n",
              "    <div class=\"colab-df-container\">\n",
              "      <div>\n",
              "<style scoped>\n",
              "    .dataframe tbody tr th:only-of-type {\n",
              "        vertical-align: middle;\n",
              "    }\n",
              "\n",
              "    .dataframe tbody tr th {\n",
              "        vertical-align: top;\n",
              "    }\n",
              "\n",
              "    .dataframe thead th {\n",
              "        text-align: right;\n",
              "    }\n",
              "</style>\n",
              "<table border=\"1\" class=\"dataframe\">\n",
              "  <thead>\n",
              "    <tr style=\"text-align: right;\">\n",
              "      <th></th>\n",
              "      <th>id</th>\n",
              "      <th>pin_code</th>\n",
              "      <th>down_payment</th>\n",
              "      <th>loan_int_rate</th>\n",
              "      <th>tenure</th>\n",
              "      <th>loan_amount</th>\n",
              "      <th>birth_year</th>\n",
              "      <th>bureau_credit_score</th>\n",
              "      <th>moratorium_optin</th>\n",
              "    </tr>\n",
              "  </thead>\n",
              "  <tbody>\n",
              "    <tr>\n",
              "      <th>count</th>\n",
              "      <td>15000.00000</td>\n",
              "      <td>15000.000000</td>\n",
              "      <td>14954.000000</td>\n",
              "      <td>15000.000000</td>\n",
              "      <td>15000.000000</td>\n",
              "      <td>15000.000000</td>\n",
              "      <td>15000.000000</td>\n",
              "      <td>14589.000000</td>\n",
              "      <td>15000.000000</td>\n",
              "    </tr>\n",
              "    <tr>\n",
              "      <th>mean</th>\n",
              "      <td>9109.69580</td>\n",
              "      <td>468939.833800</td>\n",
              "      <td>277.244148</td>\n",
              "      <td>38.262135</td>\n",
              "      <td>43.636933</td>\n",
              "      <td>14718.962401</td>\n",
              "      <td>1988.788000</td>\n",
              "      <td>595.416547</td>\n",
              "      <td>0.234267</td>\n",
              "    </tr>\n",
              "    <tr>\n",
              "      <th>std</th>\n",
              "      <td>5278.55478</td>\n",
              "      <td>203155.744075</td>\n",
              "      <td>2019.157606</td>\n",
              "      <td>3.027804</td>\n",
              "      <td>4.659975</td>\n",
              "      <td>25690.265686</td>\n",
              "      <td>7.498142</td>\n",
              "      <td>222.771374</td>\n",
              "      <td>0.423554</td>\n",
              "    </tr>\n",
              "    <tr>\n",
              "      <th>min</th>\n",
              "      <td>1.00000</td>\n",
              "      <td>110001.000000</td>\n",
              "      <td>0.000000</td>\n",
              "      <td>2.000000</td>\n",
              "      <td>39.000000</td>\n",
              "      <td>295.531800</td>\n",
              "      <td>1954.000000</td>\n",
              "      <td>300.000000</td>\n",
              "      <td>0.000000</td>\n",
              "    </tr>\n",
              "    <tr>\n",
              "      <th>25%</th>\n",
              "      <td>4522.25000</td>\n",
              "      <td>331951.500000</td>\n",
              "      <td>0.000000</td>\n",
              "      <td>38.000000</td>\n",
              "      <td>39.000000</td>\n",
              "      <td>4739.040000</td>\n",
              "      <td>1985.000000</td>\n",
              "      <td>300.000000</td>\n",
              "      <td>0.000000</td>\n",
              "    </tr>\n",
              "    <tr>\n",
              "      <th>50%</th>\n",
              "      <td>9113.50000</td>\n",
              "      <td>500050.000000</td>\n",
              "      <td>0.000000</td>\n",
              "      <td>38.240000</td>\n",
              "      <td>42.000000</td>\n",
              "      <td>7898.400000</td>\n",
              "      <td>1990.000000</td>\n",
              "      <td>704.000000</td>\n",
              "      <td>0.000000</td>\n",
              "    </tr>\n",
              "    <tr>\n",
              "      <th>75%</th>\n",
              "      <td>13678.25000</td>\n",
              "      <td>591103.500000</td>\n",
              "      <td>0.000000</td>\n",
              "      <td>38.240000</td>\n",
              "      <td>49.000000</td>\n",
              "      <td>13822.200000</td>\n",
              "      <td>1994.000000</td>\n",
              "      <td>783.000000</td>\n",
              "      <td>0.000000</td>\n",
              "    </tr>\n",
              "    <tr>\n",
              "      <th>max</th>\n",
              "      <td>18267.00000</td>\n",
              "      <td>855113.000000</td>\n",
              "      <td>43223.994000</td>\n",
              "      <td>58.000000</td>\n",
              "      <td>75.000000</td>\n",
              "      <td>296190.000000</td>\n",
              "      <td>2002.000000</td>\n",
              "      <td>900.000000</td>\n",
              "      <td>1.000000</td>\n",
              "    </tr>\n",
              "  </tbody>\n",
              "</table>\n",
              "</div>\n",
              "      <button class=\"colab-df-convert\" onclick=\"convertToInteractive('df-8a9ecdfa-8e99-4f5f-80ea-e7ad88552903')\"\n",
              "              title=\"Convert this dataframe to an interactive table.\"\n",
              "              style=\"display:none;\">\n",
              "        \n",
              "  <svg xmlns=\"http://www.w3.org/2000/svg\" height=\"24px\"viewBox=\"0 0 24 24\"\n",
              "       width=\"24px\">\n",
              "    <path d=\"M0 0h24v24H0V0z\" fill=\"none\"/>\n",
              "    <path d=\"M18.56 5.44l.94 2.06.94-2.06 2.06-.94-2.06-.94-.94-2.06-.94 2.06-2.06.94zm-11 1L8.5 8.5l.94-2.06 2.06-.94-2.06-.94L8.5 2.5l-.94 2.06-2.06.94zm10 10l.94 2.06.94-2.06 2.06-.94-2.06-.94-.94-2.06-.94 2.06-2.06.94z\"/><path d=\"M17.41 7.96l-1.37-1.37c-.4-.4-.92-.59-1.43-.59-.52 0-1.04.2-1.43.59L10.3 9.45l-7.72 7.72c-.78.78-.78 2.05 0 2.83L4 21.41c.39.39.9.59 1.41.59.51 0 1.02-.2 1.41-.59l7.78-7.78 2.81-2.81c.8-.78.8-2.07 0-2.86zM5.41 20L4 18.59l7.72-7.72 1.47 1.35L5.41 20z\"/>\n",
              "  </svg>\n",
              "      </button>\n",
              "      \n",
              "  <style>\n",
              "    .colab-df-container {\n",
              "      display:flex;\n",
              "      flex-wrap:wrap;\n",
              "      gap: 12px;\n",
              "    }\n",
              "\n",
              "    .colab-df-convert {\n",
              "      background-color: #E8F0FE;\n",
              "      border: none;\n",
              "      border-radius: 50%;\n",
              "      cursor: pointer;\n",
              "      display: none;\n",
              "      fill: #1967D2;\n",
              "      height: 32px;\n",
              "      padding: 0 0 0 0;\n",
              "      width: 32px;\n",
              "    }\n",
              "\n",
              "    .colab-df-convert:hover {\n",
              "      background-color: #E2EBFA;\n",
              "      box-shadow: 0px 1px 2px rgba(60, 64, 67, 0.3), 0px 1px 3px 1px rgba(60, 64, 67, 0.15);\n",
              "      fill: #174EA6;\n",
              "    }\n",
              "\n",
              "    [theme=dark] .colab-df-convert {\n",
              "      background-color: #3B4455;\n",
              "      fill: #D2E3FC;\n",
              "    }\n",
              "\n",
              "    [theme=dark] .colab-df-convert:hover {\n",
              "      background-color: #434B5C;\n",
              "      box-shadow: 0px 1px 3px 1px rgba(0, 0, 0, 0.15);\n",
              "      filter: drop-shadow(0px 1px 2px rgba(0, 0, 0, 0.3));\n",
              "      fill: #FFFFFF;\n",
              "    }\n",
              "  </style>\n",
              "\n",
              "      <script>\n",
              "        const buttonEl =\n",
              "          document.querySelector('#df-8a9ecdfa-8e99-4f5f-80ea-e7ad88552903 button.colab-df-convert');\n",
              "        buttonEl.style.display =\n",
              "          google.colab.kernel.accessAllowed ? 'block' : 'none';\n",
              "\n",
              "        async function convertToInteractive(key) {\n",
              "          const element = document.querySelector('#df-8a9ecdfa-8e99-4f5f-80ea-e7ad88552903');\n",
              "          const dataTable =\n",
              "            await google.colab.kernel.invokeFunction('convertToInteractive',\n",
              "                                                     [key], {});\n",
              "          if (!dataTable) return;\n",
              "\n",
              "          const docLinkHtml = 'Like what you see? Visit the ' +\n",
              "            '<a target=\"_blank\" href=https://colab.research.google.com/notebooks/data_table.ipynb>data table notebook</a>'\n",
              "            + ' to learn more about interactive tables.';\n",
              "          element.innerHTML = '';\n",
              "          dataTable['output_type'] = 'display_data';\n",
              "          await google.colab.output.renderOutput(dataTable, element);\n",
              "          const docLink = document.createElement('div');\n",
              "          docLink.innerHTML = docLinkHtml;\n",
              "          element.appendChild(docLink);\n",
              "        }\n",
              "      </script>\n",
              "    </div>\n",
              "  </div>\n",
              "  "
            ]
          },
          "metadata": {},
          "execution_count": 4
        }
      ]
    },
    {
      "cell_type": "code",
      "source": [
        "data.shape"
      ],
      "metadata": {
        "colab": {
          "base_uri": "https://localhost:8080/"
        },
        "id": "z1Nu9HCayWQo",
        "outputId": "4b0ba2a7-1e64-41b7-8b40-e9018f5cf6dd"
      },
      "execution_count": 5,
      "outputs": [
        {
          "output_type": "execute_result",
          "data": {
            "text/plain": [
              "(15000, 13)"
            ]
          },
          "metadata": {},
          "execution_count": 5
        }
      ]
    },
    {
      "cell_type": "code",
      "source": [
        "data.isna().sum()"
      ],
      "metadata": {
        "colab": {
          "base_uri": "https://localhost:8080/"
        },
        "id": "7bu9PnK7yYmm",
        "outputId": "a87f438f-3d64-4e3b-d055-4387334a7f4f"
      },
      "execution_count": 6,
      "outputs": [
        {
          "output_type": "execute_result",
          "data": {
            "text/plain": [
              "id                       0\n",
              "pin_code                 0\n",
              "down_payment            46\n",
              "loan_int_rate            0\n",
              "tenure                   0\n",
              "loan_amount              0\n",
              "sector                   0\n",
              "mandate_source         281\n",
              "gender                   1\n",
              "city                     0\n",
              "birth_year               0\n",
              "bureau_credit_score    411\n",
              "moratorium_optin         0\n",
              "dtype: int64"
            ]
          },
          "metadata": {},
          "execution_count": 6
        }
      ]
    },
    {
      "cell_type": "code",
      "source": [
        "##### finding unique values in each column\n",
        "for i in data.columns:\n",
        "  print(i, len(data[i].unique()))"
      ],
      "metadata": {
        "colab": {
          "base_uri": "https://localhost:8080/"
        },
        "id": "6F5zZFZdy4xr",
        "outputId": "b1dc7e60-3202-4b42-b4c7-486549e0716b"
      },
      "execution_count": 7,
      "outputs": [
        {
          "output_type": "stream",
          "name": "stdout",
          "text": [
            "id 15000\n",
            "pin_code 5593\n",
            "down_payment 185\n",
            "loan_int_rate 22\n",
            "tenure 13\n",
            "loan_amount 3969\n",
            "sector 7\n",
            "mandate_source 6\n",
            "gender 3\n",
            "city 1325\n",
            "birth_year 49\n",
            "bureau_credit_score 404\n",
            "moratorium_optin 2\n"
          ]
        }
      ]
    },
    {
      "cell_type": "code",
      "source": [
        "##### filling up the missing values \n",
        "#### for catagorical with mode and for numerical with\n",
        "data['down_payment'].fillna(data['down_payment'].mean(),inplace=True)\n",
        "data['bureau_credit_score'].fillna(data['bureau_credit_score'].mean(),inplace=True)\n",
        "data['mandate_source'].fillna(data['mandate_source'].mode(),inplace=True)"
      ],
      "metadata": {
        "id": "cz_eWK6ezFK3"
      },
      "execution_count": 8,
      "outputs": []
    },
    {
      "cell_type": "code",
      "source": [
        "######## univariate analysis"
      ],
      "metadata": {
        "id": "E5W4Lyl4ybng"
      },
      "execution_count": 9,
      "outputs": []
    },
    {
      "cell_type": "code",
      "source": [
        "sns.countplot(data=data,x='gender')"
      ],
      "metadata": {
        "colab": {
          "base_uri": "https://localhost:8080/",
          "height": 298
        },
        "id": "WBmR3KyxyeM_",
        "outputId": "7a7a4851-6da5-4e3d-b7e6-18d42fe9eecf"
      },
      "execution_count": 10,
      "outputs": [
        {
          "output_type": "execute_result",
          "data": {
            "text/plain": [
              "<matplotlib.axes._subplots.AxesSubplot at 0x7f28f563e8e0>"
            ]
          },
          "metadata": {},
          "execution_count": 10
        },
        {
          "output_type": "display_data",
          "data": {
            "text/plain": [
              "<Figure size 432x288 with 1 Axes>"
            ],
            "image/png": "[encoded data removed]"
          },
          "metadata": {
            "needs_background": "light"
          }
        }
      ]
    },
    {
      "cell_type": "code",
      "source": [
        "sns.countplot(data=data,x='sector')"
      ],
      "metadata": {
        "colab": {
          "base_uri": "https://localhost:8080/",
          "height": 296
        },
        "id": "eFQ0K6Oo0XmR",
        "outputId": "b33e9792-db7c-4b1a-9fde-b3536d00a7d5"
      },
      "execution_count": 11,
      "outputs": [
        {
          "output_type": "execute_result",
          "data": {
            "text/plain": [
              "<matplotlib.axes._subplots.AxesSubplot at 0x7f28f5580340>"
            ]
          },
          "metadata": {},
          "execution_count": 11
        },
        {
          "output_type": "display_data",
          "data": {
            "text/plain": [
              "<Figure size 432x288 with 1 Axes>"
            ],
            "image/png": "[encoded data removed]"
          },
          "metadata": {
            "needs_background": "light"
          }
        }
      ]
    },
    {
      "cell_type": "code",
      "source": [
        "sns.countplot(data=data,x='mandate_source')\n"
      ],
      "metadata": {
        "colab": {
          "base_uri": "https://localhost:8080/",
          "height": 297
        },
        "id": "Zsr4LwWg0gU1",
        "outputId": "08c682e3-b8a7-4848-fe99-35c4de8e6b59"
      },
      "execution_count": 12,
      "outputs": [
        {
          "output_type": "execute_result",
          "data": {
            "text/plain": [
              "<matplotlib.axes._subplots.AxesSubplot at 0x7f28f50ad0a0>"
            ]
          },
          "metadata": {},
          "execution_count": 12
        },
        {
          "output_type": "display_data",
          "data": {
            "text/plain": [
              "<Figure size 432x288 with 1 Axes>"
            ],
            "image/png": "[encoded data removed]"
          },
          "metadata": {
            "needs_background": "light"
          }
        }
      ]
    },
    {
      "cell_type": "code",
      "source": [
        "\n",
        "sns.countplot(data=data,x='moratorium_optin')\n"
      ],
      "metadata": {
        "colab": {
          "base_uri": "https://localhost:8080/",
          "height": 300
        },
        "id": "Oo5oigXO0sz6",
        "outputId": "cbcc4455-35c3-421b-cbe8-96878169a884"
      },
      "execution_count": 13,
      "outputs": [
        {
          "output_type": "execute_result",
          "data": {
            "text/plain": [
              "<matplotlib.axes._subplots.AxesSubplot at 0x7f28f50094c0>"
            ]
          },
          "metadata": {},
          "execution_count": 13
        },
        {
          "output_type": "display_data",
          "data": {
            "text/plain": [
              "<Figure size 432x288 with 1 Axes>"
            ],
            "image/png": "[encoded data removed]"
          },
          "metadata": {
            "needs_background": "light"
          }
        }
      ]
    },
    {
      "cell_type": "code",
      "source": [
        "##### there more than 5000 pincodes and 1500 cites , will create some extra features based on the external data sets"
      ],
      "metadata": {
        "id": "u5wn8eaM03j4"
      },
      "execution_count": 14,
      "outputs": []
    },
    {
      "cell_type": "code",
      "source": [
        "pincodes=pincodes[['Pincode','State']]\n",
        "pincodes.rename(columns={'Pincode':'pin_code'},inplace=True)\n",
        "pincodes=pincodes.drop_duplicates(subset=['pin_code'])\n",
        "data=pd.merge(data,pincodes,on='pin_code',how='left')\n",
        "print(data.shape)"
      ],
      "metadata": {
        "colab": {
          "base_uri": "https://localhost:8080/"
        },
        "id": "a_GWbwUN2Gim",
        "outputId": "a11f9927-6158-41c4-bc9a-1b5eabd94736"
      },
      "execution_count": 15,
      "outputs": [
        {
          "output_type": "stream",
          "name": "stdout",
          "text": [
            "(15000, 14)\n"
          ]
        }
      ]
    },
    {
      "cell_type": "code",
      "source": [
        "#####creating age,zones columns, interest and emi\n",
        "data['age']=2022-data['birth_year']\n",
        "data['zones']=data['pin_code'].astype(str).str[0]\n",
        "data['amount_got']=data['loan_amount']-data['down_payment']\n",
        "data['amount_repaid']=data['loan_amount']*pow((1+data['loan_int_rate']/100),(data['tenure']/12))\n",
        "data['intrest_paid']=data['amount_repaid']-data['loan_amount']\n",
        "data['emi']=data['amount_repaid']/data['tenure']"
      ],
      "metadata": {
        "id": "SY7856VO28J9"
      },
      "execution_count": 16,
      "outputs": []
    },
    {
      "cell_type": "code",
      "source": [
        "###### adding state wise total cases and deaths till date"
      ],
      "metadata": {
        "id": "paA9yR80qwwP"
      },
      "execution_count": 17,
      "outputs": []
    },
    {
      "cell_type": "code",
      "source": [
        "covid_data=covid_data.groupby('State').sum().reset_index()\n"
      ],
      "metadata": {
        "id": "5-kMGajEq5TY"
      },
      "execution_count": 18,
      "outputs": []
    },
    {
      "cell_type": "code",
      "source": [
        "data=pd.merge(data,covid_data,on=\"State\",how='left')"
      ],
      "metadata": {
        "id": "cz5qBRAyrG0i"
      },
      "execution_count": 19,
      "outputs": []
    },
    {
      "cell_type": "code",
      "source": [
        "data.drop(columns=['pin_code','birth_year','id'],axis=1, inplace=True)"
      ],
      "metadata": {
        "id": "CrppgfPg2zOi"
      },
      "execution_count": 20,
      "outputs": []
    },
    {
      "cell_type": "code",
      "source": [
        "sns.countplot(data=data,x='State',order=data.State.value_counts().iloc[:5].index)"
      ],
      "metadata": {
        "colab": {
          "base_uri": "https://localhost:8080/",
          "height": 296
        },
        "id": "7hDOlOp420cK",
        "outputId": "bda52348-737f-4fbb-9598-181e09771c84"
      },
      "execution_count": 21,
      "outputs": [
        {
          "output_type": "execute_result",
          "data": {
            "text/plain": [
              "<matplotlib.axes._subplots.AxesSubplot at 0x7f28f5686d00>"
            ]
          },
          "metadata": {},
          "execution_count": 21
        },
        {
          "output_type": "display_data",
          "data": {
            "text/plain": [
              "<Figure size 432x288 with 1 Axes>"
            ],
            "image/png": "[encoded data removed]"
          },
          "metadata": {
            "needs_background": "light"
          }
        }
      ]
    },
    {
      "cell_type": "code",
      "source": [
        "sns.countplot(data=data,x='zones')"
      ],
      "metadata": {
        "colab": {
          "base_uri": "https://localhost:8080/",
          "height": 296
        },
        "id": "zHpRc1jl5gE8",
        "outputId": "4c6f21d5-e55d-45f5-c446-c3a6fc3c3f6d"
      },
      "execution_count": 22,
      "outputs": [
        {
          "output_type": "execute_result",
          "data": {
            "text/plain": [
              "<matplotlib.axes._subplots.AxesSubplot at 0x7f28f4f625b0>"
            ]
          },
          "metadata": {},
          "execution_count": 22
        },
        {
          "output_type": "display_data",
          "data": {
            "text/plain": [
              "<Figure size 432x288 with 1 Axes>"
            ],
            "image/png": "[encoded data removed]"
          },
          "metadata": {
            "needs_background": "light"
          }
        }
      ]
    },
    {
      "cell_type": "code",
      "source": [
        "data.head()"
      ],
      "metadata": {
        "colab": {
          "base_uri": "https://localhost:8080/",
          "height": 305
        },
        "id": "V--i0iNM3SYP",
        "outputId": "c8c952a3-d836-40e2-f3ff-74259520d4cf"
      },
      "execution_count": 23,
      "outputs": [
        {
          "output_type": "execute_result",
          "data": {
            "text/plain": [
              "   down_payment  loan_int_rate  tenure  loan_amount sector mandate_source  \\\n",
              "0           0.0          38.24      42    5265.6000      A              X   \n",
              "1           0.0          38.24      39    8556.6000      A              W   \n",
              "2           0.0          38.24      39    9873.0000      A              W   \n",
              "3           0.0          38.00      49   25520.3886      A              Y   \n",
              "4           0.0          38.24      39    7898.4000      A              W   \n",
              "\n",
              "  gender city  bureau_credit_score  moratorium_optin           State  age  \\\n",
              "0      M  PNE                735.0                 0     Maharashtra   35   \n",
              "1      M  HUB                775.0                 0       Karnataka   40   \n",
              "2      M  STA                770.0                 1  Madhya Pradesh   32   \n",
              "3      M  COC                300.0                 0          Kerala   52   \n",
              "4      M  PPT                300.0                 0         Haryana   29   \n",
              "\n",
              "  zones  amount_got  amount_repaid  intrest_paid          emi  Total Cases  \\\n",
              "0     4   5265.6000   16355.578240  11089.978240   389.418530    8136274.0   \n",
              "1     5   8556.6000   24510.989107  15954.389107   628.486900    4071630.0   \n",
              "2     4   9873.0000   28281.910508  18408.910508   725.177193    1054913.0   \n",
              "3     6  25520.3886   95073.661362  69553.272762  1940.278803    6827441.0   \n",
              "4     1   7898.4000   22625.528406  14727.128406   580.141754    1056560.0   \n",
              "\n",
              "     Deaths  \n",
              "0  148409.0  \n",
              "1   40307.0  \n",
              "2   10776.0  \n",
              "3   71527.0  \n",
              "4   10714.0  "
            ],
            "text/html": [
              "\n",
              "  <div id=\"df-611524d1-1e34-4a1b-8bce-391bd7e25632\">\n",
              "    <div class=\"colab-df-container\">\n",
              "      <div>\n",
              "<style scoped>\n",
              "    .dataframe tbody tr th:only-of-type {\n",
              "        vertical-align: middle;\n",
              "    }\n",
              "\n",
              "    .dataframe tbody tr th {\n",
              "        vertical-align: top;\n",
              "    }\n",
              "\n",
              "    .dataframe thead th {\n",
              "        text-align: right;\n",
              "    }\n",
              "</style>\n",
              "<table border=\"1\" class=\"dataframe\">\n",
              "  <thead>\n",
              "    <tr style=\"text-align: right;\">\n",
              "      <th></th>\n",
              "      <th>down_payment</th>\n",
              "      <th>loan_int_rate</th>\n",
              "      <th>tenure</th>\n",
              "      <th>loan_amount</th>\n",
              "      <th>sector</th>\n",
              "      <th>mandate_source</th>\n",
              "      <th>gender</th>\n",
              "      <th>city</th>\n",
              "      <th>bureau_credit_score</th>\n",
              "      <th>moratorium_optin</th>\n",
              "      <th>State</th>\n",
              "      <th>age</th>\n",
              "      <th>zones</th>\n",
              "      <th>amount_got</th>\n",
              "      <th>amount_repaid</th>\n",
              "      <th>intrest_paid</th>\n",
              "      <th>emi</th>\n",
              "      <th>Total Cases</th>\n",
              "      <th>Deaths</th>\n",
              "    </tr>\n",
              "  </thead>\n",
              "  <tbody>\n",
              "    <tr>\n",
              "      <th>0</th>\n",
              "      <td>0.0</td>\n",
              "      <td>38.24</td>\n",
              "      <td>42</td>\n",
              "      <td>5265.6000</td>\n",
              "      <td>A</td>\n",
              "      <td>X</td>\n",
              "      <td>M</td>\n",
              "      <td>PNE</td>\n",
              "      <td>735.0</td>\n",
              "      <td>0</td>\n",
              "      <td>Maharashtra</td>\n",
              "      <td>35</td>\n",
              "      <td>4</td>\n",
              "      <td>5265.6000</td>\n",
              "      <td>16355.578240</td>\n",
              "      <td>11089.978240</td>\n",
              "      <td>389.418530</td>\n",
              "      <td>8136274.0</td>\n",
              "      <td>148409.0</td>\n",
              "    </tr>\n",
              "    <tr>\n",
              "      <th>1</th>\n",
              "      <td>0.0</td>\n",
              "      <td>38.24</td>\n",
              "      <td>39</td>\n",
              "      <td>8556.6000</td>\n",
              "      <td>A</td>\n",
              "      <td>W</td>\n",
              "      <td>M</td>\n",
              "      <td>HUB</td>\n",
              "      <td>775.0</td>\n",
              "      <td>0</td>\n",
              "      <td>Karnataka</td>\n",
              "      <td>40</td>\n",
              "      <td>5</td>\n",
              "      <td>8556.6000</td>\n",
              "      <td>24510.989107</td>\n",
              "      <td>15954.389107</td>\n",
              "      <td>628.486900</td>\n",
              "      <td>4071630.0</td>\n",
              "      <td>40307.0</td>\n",
              "    </tr>\n",
              "    <tr>\n",
              "      <th>2</th>\n",
              "      <td>0.0</td>\n",
              "      <td>38.24</td>\n",
              "      <td>39</td>\n",
              "      <td>9873.0000</td>\n",
              "      <td>A</td>\n",
              "      <td>W</td>\n",
              "      <td>M</td>\n",
              "      <td>STA</td>\n",
              "      <td>770.0</td>\n",
              "      <td>1</td>\n",
              "      <td>Madhya Pradesh</td>\n",
              "      <td>32</td>\n",
              "      <td>4</td>\n",
              "      <td>9873.0000</td>\n",
              "      <td>28281.910508</td>\n",
              "      <td>18408.910508</td>\n",
              "      <td>725.177193</td>\n",
              "      <td>1054913.0</td>\n",
              "      <td>10776.0</td>\n",
              "    </tr>\n",
              "    <tr>\n",
              "      <th>3</th>\n",
              "      <td>0.0</td>\n",
              "      <td>38.00</td>\n",
              "      <td>49</td>\n",
              "      <td>25520.3886</td>\n",
              "      <td>A</td>\n",
              "      <td>Y</td>\n",
              "      <td>M</td>\n",
              "      <td>COC</td>\n",
              "      <td>300.0</td>\n",
              "      <td>0</td>\n",
              "      <td>Kerala</td>\n",
              "      <td>52</td>\n",
              "      <td>6</td>\n",
              "      <td>25520.3886</td>\n",
              "      <td>95073.661362</td>\n",
              "      <td>69553.272762</td>\n",
              "      <td>1940.278803</td>\n",
              "      <td>6827441.0</td>\n",
              "      <td>71527.0</td>\n",
              "    </tr>\n",
              "    <tr>\n",
              "      <th>4</th>\n",
              "      <td>0.0</td>\n",
              "      <td>38.24</td>\n",
              "      <td>39</td>\n",
              "      <td>7898.4000</td>\n",
              "      <td>A</td>\n",
              "      <td>W</td>\n",
              "      <td>M</td>\n",
              "      <td>PPT</td>\n",
              "      <td>300.0</td>\n",
              "      <td>0</td>\n",
              "      <td>Haryana</td>\n",
              "      <td>29</td>\n",
              "      <td>1</td>\n",
              "      <td>7898.4000</td>\n",
              "      <td>22625.528406</td>\n",
              "      <td>14727.128406</td>\n",
              "      <td>580.141754</td>\n",
              "      <td>1056560.0</td>\n",
              "      <td>10714.0</td>\n",
              "    </tr>\n",
              "  </tbody>\n",
              "</table>\n",
              "</div>\n",
              "      <button class=\"colab-df-convert\" onclick=\"convertToInteractive('df-611524d1-1e34-4a1b-8bce-391bd7e25632')\"\n",
              "              title=\"Convert this dataframe to an interactive table.\"\n",
              "              style=\"display:none;\">\n",
              "        \n",
              "  <svg xmlns=\"http://www.w3.org/2000/svg\" height=\"24px\"viewBox=\"0 0 24 24\"\n",
              "       width=\"24px\">\n",
              "    <path d=\"M0 0h24v24H0V0z\" fill=\"none\"/>\n",
              "    <path d=\"M18.56 5.44l.94 2.06.94-2.06 2.06-.94-2.06-.94-.94-2.06-.94 2.06-2.06.94zm-11 1L8.5 8.5l.94-2.06 2.06-.94-2.06-.94L8.5 2.5l-.94 2.06-2.06.94zm10 10l.94 2.06.94-2.06 2.06-.94-2.06-.94-.94-2.06-.94 2.06-2.06.94z\"/><path d=\"M17.41 7.96l-1.37-1.37c-.4-.4-.92-.59-1.43-.59-.52 0-1.04.2-1.43.59L10.3 9.45l-7.72 7.72c-.78.78-.78 2.05 0 2.83L4 21.41c.39.39.9.59 1.41.59.51 0 1.02-.2 1.41-.59l7.78-7.78 2.81-2.81c.8-.78.8-2.07 0-2.86zM5.41 20L4 18.59l7.72-7.72 1.47 1.35L5.41 20z\"/>\n",
              "  </svg>\n",
              "      </button>\n",
              "      \n",
              "  <style>\n",
              "    .colab-df-container {\n",
              "      display:flex;\n",
              "      flex-wrap:wrap;\n",
              "      gap: 12px;\n",
              "    }\n",
              "\n",
              "    .colab-df-convert {\n",
              "      background-color: #E8F0FE;\n",
              "      border: none;\n",
              "      border-radius: 50%;\n",
              "      cursor: pointer;\n",
              "      display: none;\n",
              "      fill: #1967D2;\n",
              "      height: 32px;\n",
              "      padding: 0 0 0 0;\n",
              "      width: 32px;\n",
              "    }\n",
              "\n",
              "    .colab-df-convert:hover {\n",
              "      background-color: #E2EBFA;\n",
              "      box-shadow: 0px 1px 2px rgba(60, 64, 67, 0.3), 0px 1px 3px 1px rgba(60, 64, 67, 0.15);\n",
              "      fill: #174EA6;\n",
              "    }\n",
              "\n",
              "    [theme=dark] .colab-df-convert {\n",
              "      background-color: #3B4455;\n",
              "      fill: #D2E3FC;\n",
              "    }\n",
              "\n",
              "    [theme=dark] .colab-df-convert:hover {\n",
              "      background-color: #434B5C;\n",
              "      box-shadow: 0px 1px 3px 1px rgba(0, 0, 0, 0.15);\n",
              "      filter: drop-shadow(0px 1px 2px rgba(0, 0, 0, 0.3));\n",
              "      fill: #FFFFFF;\n",
              "    }\n",
              "  </style>\n",
              "\n",
              "      <script>\n",
              "        const buttonEl =\n",
              "          document.querySelector('#df-611524d1-1e34-4a1b-8bce-391bd7e25632 button.colab-df-convert');\n",
              "        buttonEl.style.display =\n",
              "          google.colab.kernel.accessAllowed ? 'block' : 'none';\n",
              "\n",
              "        async function convertToInteractive(key) {\n",
              "          const element = document.querySelector('#df-611524d1-1e34-4a1b-8bce-391bd7e25632');\n",
              "          const dataTable =\n",
              "            await google.colab.kernel.invokeFunction('convertToInteractive',\n",
              "                                                     [key], {});\n",
              "          if (!dataTable) return;\n",
              "\n",
              "          const docLinkHtml = 'Like what you see? Visit the ' +\n",
              "            '<a target=\"_blank\" href=https://colab.research.google.com/notebooks/data_table.ipynb>data table notebook</a>'\n",
              "            + ' to learn more about interactive tables.';\n",
              "          element.innerHTML = '';\n",
              "          dataTable['output_type'] = 'display_data';\n",
              "          await google.colab.output.renderOutput(dataTable, element);\n",
              "          const docLink = document.createElement('div');\n",
              "          docLink.innerHTML = docLinkHtml;\n",
              "          element.appendChild(docLink);\n",
              "        }\n",
              "      </script>\n",
              "    </div>\n",
              "  </div>\n",
              "  "
            ]
          },
          "metadata": {},
          "execution_count": 23
        }
      ]
    },
    {
      "cell_type": "code",
      "source": [
        "data['Deaths'].fillna(data['Deaths'].mean(),inplace=True)\n",
        "data['Total Cases'].fillna(data['Total Cases'].mean(),inplace=True)"
      ],
      "metadata": {
        "id": "_PxZee8p27MI"
      },
      "execution_count": 24,
      "outputs": []
    },
    {
      "cell_type": "code",
      "source": [
        "data_boxplot=data[['down_payment', 'loan_int_rate', 'tenure', 'loan_amount','bureau_credit_score','age','Deaths','Total Cases','amount_got','amount_repaid','intrest_paid','emi']]"
      ],
      "metadata": {
        "id": "aZ_5KU7J5qKL"
      },
      "execution_count": 25,
      "outputs": []
    },
    {
      "cell_type": "code",
      "source": [
        "for column in data_boxplot:\n",
        "    plt.figure()\n",
        "    data_boxplot.boxplot([column])"
      ],
      "metadata": {
        "colab": {
          "base_uri": "https://localhost:8080/",
          "height": 1000
        },
        "id": "kZNkUYKz5vnm",
        "outputId": "b5fe5753-c36e-4683-9278-a50b86231d08"
      },
      "execution_count": 26,
      "outputs": [
        {
          "output_type": "display_data",
          "data": {
            "text/plain": [
              "<Figure size 432x288 with 1 Axes>"
            ],
            "image/png": "[encoded data removed]"
          },
          "metadata": {
            "needs_background": "light"
          }
        },
        {
          "output_type": "display_data",
          "data": {
            "text/plain": [
              "<Figure size 432x288 with 1 Axes>"
            ],
            "image/png": "[encoded data removed]"
          },
          "metadata": {
            "needs_background": "light"
          }
        },
        {
          "output_type": "display_data",
          "data": {
            "text/plain": [
              "<Figure size 432x288 with 1 Axes>"
            ],
            "image/png": "[encoded data removed]"
          },
          "metadata": {
            "needs_background": "light"
          }
        },
        {
          "output_type": "display_data",
          "data": {
            "text/plain": [
              "<Figure size 432x288 with 1 Axes>"
            ],
            "image/png": "[encoded data removed]"
          },
          "metadata": {
            "needs_background": "light"
          }
        },
        {
          "output_type": "display_data",
          "data": {
            "text/plain": [
              "<Figure size 432x288 with 1 Axes>"
            ],
            "image/png": "[encoded data removed]"
          },
          "metadata": {
            "needs_background": "light"
          }
        },
        {
          "output_type": "display_data",
          "data": {
            "text/plain": [
              "<Figure size 432x288 with 1 Axes>"
            ],
            "image/png": "[encoded data removed]"
          },
          "metadata": {
            "needs_background": "light"
          }
        },
        {
          "output_type": "display_data",
          "data": {
            "text/plain": [
              "<Figure size 432x288 with 1 Axes>"
            ],
            "image/png": "[encoded data removed]"
          },
          "metadata": {
            "needs_background": "light"
          }
        },
        {
          "output_type": "display_data",
          "data": {
            "text/plain": [
              "<Figure size 432x288 with 1 Axes>"
            ],
            "image/png": "[encoded data removed]"
          },
          "metadata": {
            "needs_background": "light"
          }
        },
        {
          "output_type": "display_data",
          "data": {
            "text/plain": [
              "<Figure size 432x288 with 1 Axes>"
            ],
            "image/png": "[encoded data removed]"
          },
          "metadata": {
            "needs_background": "light"
          }
        },
        {
          "output_type": "display_data",
          "data": {
            "text/plain": [
              "<Figure size 432x288 with 1 Axes>"
            ],
            "image/png": "[encoded data removed]"
          },
          "metadata": {
            "needs_background": "light"
          }
        },
        {
          "output_type": "display_data",
          "data": {
            "text/plain": [
              "<Figure size 432x288 with 1 Axes>"
            ],
            "image/png": "[encoded data removed]"
          },
          "metadata": {
            "needs_background": "light"
          }
        },
        {
          "output_type": "display_data",
          "data": {
            "text/plain": [
              "<Figure size 432x288 with 1 Axes>"
            ],
            "image/png": "[encoded data removed]"
          },
          "metadata": {
            "needs_background": "light"
          }
        }
      ]
    },
    {
      "cell_type": "code",
      "source": [
        "#######insights from univariate analysis\n",
        "#### More than 85 % are male \n",
        "#### A sector contibutes to 80% of data\n",
        "#### W and Y are the main mandate source contributes to 90% of data\n",
        "##### 23% of people opted for montrium\n",
        "#### Data has Andra pradesh as highest no of records\n",
        "#### loan intrest rate, age and tennure,emi  have outlier they might needs to be treated\n",
        "#### credit score and tennure does not have any outlier\n",
        "\n"
      ],
      "metadata": {
        "id": "y2h0wlHe6n1z"
      },
      "execution_count": 27,
      "outputs": []
    },
    {
      "cell_type": "code",
      "source": [
        "######### treating outliers \n",
        "lower_limit = data[\"down_payment\"].quantile(0.03)  \n",
        "upper_limit = data[\"down_payment\"].quantile(0.97)\n",
        "data[\"down_payment\"] = np.where(data[\"down_payment\"]> upper_limit, upper_limit,np.where(data[\"down_payment\"]< lower_limit, lower_limit,\n",
        "                        data[\"down_payment\"]))\n",
        "lower_limit = data[\"loan_int_rate\"].quantile(0.03)  \n",
        "upper_limit = data[\"loan_int_rate\"].quantile(0.97)\n",
        "data[\"loan_int_rate\"] = np.where(data[\"loan_int_rate\"]> upper_limit, upper_limit,np.where(data[\"loan_int_rate\"]< lower_limit, lower_limit,\n",
        "                        data[\"loan_int_rate\"]))\n",
        "lower_limit = data[\"loan_amount\"].quantile(0.03)  \n",
        "upper_limit = data[\"loan_amount\"].quantile(0.97)\n",
        "data[\"age\"] = np.where(data[\"age\"]> upper_limit, upper_limit,np.where(data[\"age\"]< lower_limit, lower_limit,\n",
        "                        data[\"age\"]))\n",
        "lower_limit = data[\"loan_amount\"].quantile(0.03)  \n",
        "upper_limit = data[\"loan_amount\"].quantile(0.97)\n",
        "data[\"loan_amount\"] = np.where(data[\"loan_amount\"]> upper_limit, upper_limit,np.where(data[\"loan_amount\"]< lower_limit, lower_limit,\n",
        "                        data[\"loan_amount\"]))\n",
        "lower_limit = data[\"Total Cases\"].quantile(0.03)  \n",
        "upper_limit = data[\"Total Cases\"].quantile(0.97)\n",
        "data[\"Total Cases\"] = np.where(data[\"Total Cases\"]> upper_limit, upper_limit,np.where(data[\"Total Cases\"]< lower_limit, lower_limit,\n",
        "                        data[\"Total Cases\"]))\n",
        "lower_limit = data[\"Deaths\"].quantile(0.03)  \n",
        "upper_limit = data[\"Deaths\"].quantile(0.97)\n",
        "data[\"Deaths\"] = np.where(data[\"Deaths\"]> upper_limit, upper_limit,np.where(data[\"Deaths\"]< lower_limit, lower_limit,\n",
        "                        data[\"Deaths\"]))\n",
        "lower_limit = data[\"emi\"].quantile(0.03)  \n",
        "upper_limit = data[\"emi\"].quantile(0.97)\n",
        "data[\"emi\"] = np.where(data[\"emi\"]> upper_limit, upper_limit,np.where(data[\"emi\"]< lower_limit, lower_limit,\n",
        "                        data[\"emi\"]))\n",
        "lower_limit = data[\"intrest_paid\"].quantile(0.03)  \n",
        "upper_limit = data[\"intrest_paid\"].quantile(0.97)\n",
        "data[\"intrest_paid\"] = np.where(data[\"intrest_paid\"]> upper_limit, upper_limit,np.where(data[\"intrest_paid\"]< lower_limit, lower_limit,\n",
        "                        data[\"intrest_paid\"]))\n",
        "lower_limit = data[\"amount_repaid\"].quantile(0.03)  \n",
        "upper_limit = data[\"amount_repaid\"].quantile(0.97)\n",
        "data[\"amount_repaid\"] = np.where(data[\"amount_repaid\"]> upper_limit, upper_limit,np.where(data[\"amount_repaid\"]< lower_limit, lower_limit,\n",
        "                        data[\"amount_repaid\"]))\n",
        "lower_limit = data[\"amount_got\"].quantile(0.03)  \n",
        "upper_limit = data[\"amount_got\"].quantile(0.97)\n",
        "data[\"amount_got\"] = np.where(data[\"amount_got\"]> upper_limit, upper_limit,np.where(data[\"amount_got\"]< lower_limit, lower_limit,\n",
        "                        data[\"amount_got\"]))\n",
        "\n",
        "\n",
        "\n",
        "\n",
        "\n",
        "\n"
      ],
      "metadata": {
        "id": "wCiQJcRUaN_Y"
      },
      "execution_count": 28,
      "outputs": []
    },
    {
      "cell_type": "code",
      "source": [
        "##### bivariate  and multivariate analysis analyis"
      ],
      "metadata": {
        "id": "lmujV-h86z0J"
      },
      "execution_count": 29,
      "outputs": []
    },
    {
      "cell_type": "code",
      "source": [
        "data.head()"
      ],
      "metadata": {
        "id": "PgLnzXwk6NfL",
        "outputId": "5b39c94f-3d23-4c9f-cc26-9d41a3ba23eb",
        "colab": {
          "base_uri": "https://localhost:8080/",
          "height": 305
        }
      },
      "execution_count": 30,
      "outputs": [
        {
          "output_type": "execute_result",
          "data": {
            "text/plain": [
              "   down_payment  loan_int_rate  tenure  loan_amount sector mandate_source  \\\n",
              "0           0.0          38.24      42    5265.6000      A              X   \n",
              "1           0.0          38.24      39    8556.6000      A              W   \n",
              "2           0.0          38.24      39    9873.0000      A              W   \n",
              "3           0.0          38.00      49   25520.3886      A              Y   \n",
              "4           0.0          38.24      39    7898.4000      A              W   \n",
              "\n",
              "  gender city  bureau_credit_score  moratorium_optin           State     age  \\\n",
              "0      M  PNE                735.0                 0     Maharashtra  855.66   \n",
              "1      M  HUB                775.0                 0       Karnataka  855.66   \n",
              "2      M  STA                770.0                 1  Madhya Pradesh  855.66   \n",
              "3      M  COC                300.0                 0          Kerala  855.66   \n",
              "4      M  PPT                300.0                 0         Haryana  855.66   \n",
              "\n",
              "  zones  amount_got  amount_repaid  intrest_paid          emi  Total Cases  \\\n",
              "0     4   5265.6000   16355.578240  11089.978240   389.418530    8136274.0   \n",
              "1     5   8556.6000   24510.989107  15954.389107   628.486900    4071630.0   \n",
              "2     4   9873.0000   28281.910508  18408.910508   725.177193    1054913.0   \n",
              "3     6  25520.3886   95073.661362  69553.272762  1940.278803    6827441.0   \n",
              "4     1   7898.4000   22625.528406  14727.128406   580.141754    1056560.0   \n",
              "\n",
              "     Deaths  \n",
              "0  148409.0  \n",
              "1   40307.0  \n",
              "2   10776.0  \n",
              "3   71527.0  \n",
              "4   10714.0  "
            ],
            "text/html": [
              "\n",
              "  <div id=\"df-9fee3e38-81a9-4e45-801f-06e759b661ce\">\n",
              "    <div class=\"colab-df-container\">\n",
              "      <div>\n",
              "<style scoped>\n",
              "    .dataframe tbody tr th:only-of-type {\n",
              "        vertical-align: middle;\n",
              "    }\n",
              "\n",
              "    .dataframe tbody tr th {\n",
              "        vertical-align: top;\n",
              "    }\n",
              "\n",
              "    .dataframe thead th {\n",
              "        text-align: right;\n",
              "    }\n",
              "</style>\n",
              "<table border=\"1\" class=\"dataframe\">\n",
              "  <thead>\n",
              "    <tr style=\"text-align: right;\">\n",
              "      <th></th>\n",
              "      <th>down_payment</th>\n",
              "      <th>loan_int_rate</th>\n",
              "      <th>tenure</th>\n",
              "      <th>loan_amount</th>\n",
              "      <th>sector</th>\n",
              "      <th>mandate_source</th>\n",
              "      <th>gender</th>\n",
              "      <th>city</th>\n",
              "      <th>bureau_credit_score</th>\n",
              "      <th>moratorium_optin</th>\n",
              "      <th>State</th>\n",
              "      <th>age</th>\n",
              "      <th>zones</th>\n",
              "      <th>amount_got</th>\n",
              "      <th>amount_repaid</th>\n",
              "      <th>intrest_paid</th>\n",
              "      <th>emi</th>\n",
              "      <th>Total Cases</th>\n",
              "      <th>Deaths</th>\n",
              "    </tr>\n",
              "  </thead>\n",
              "  <tbody>\n",
              "    <tr>\n",
              "      <th>0</th>\n",
              "      <td>0.0</td>\n",
              "      <td>38.24</td>\n",
              "      <td>42</td>\n",
              "      <td>5265.6000</td>\n",
              "      <td>A</td>\n",
              "      <td>X</td>\n",
              "      <td>M</td>\n",
              "      <td>PNE</td>\n",
              "      <td>735.0</td>\n",
              "      <td>0</td>\n",
              "      <td>Maharashtra</td>\n",
              "      <td>855.66</td>\n",
              "      <td>4</td>\n",
              "      <td>5265.6000</td>\n",
              "      <td>16355.578240</td>\n",
              "      <td>11089.978240</td>\n",
              "      <td>389.418530</td>\n",
              "      <td>8136274.0</td>\n",
              "      <td>148409.0</td>\n",
              "    </tr>\n",
              "    <tr>\n",
              "      <th>1</th>\n",
              "      <td>0.0</td>\n",
              "      <td>38.24</td>\n",
              "      <td>39</td>\n",
              "      <td>8556.6000</td>\n",
              "      <td>A</td>\n",
              "      <td>W</td>\n",
              "      <td>M</td>\n",
              "      <td>HUB</td>\n",
              "      <td>775.0</td>\n",
              "      <td>0</td>\n",
              "      <td>Karnataka</td>\n",
              "      <td>855.66</td>\n",
              "      <td>5</td>\n",
              "      <td>8556.6000</td>\n",
              "      <td>24510.989107</td>\n",
              "      <td>15954.389107</td>\n",
              "      <td>628.486900</td>\n",
              "      <td>4071630.0</td>\n",
              "      <td>40307.0</td>\n",
              "    </tr>\n",
              "    <tr>\n",
              "      <th>2</th>\n",
              "      <td>0.0</td>\n",
              "      <td>38.24</td>\n",
              "      <td>39</td>\n",
              "      <td>9873.0000</td>\n",
              "      <td>A</td>\n",
              "      <td>W</td>\n",
              "      <td>M</td>\n",
              "      <td>STA</td>\n",
              "      <td>770.0</td>\n",
              "      <td>1</td>\n",
              "      <td>Madhya Pradesh</td>\n",
              "      <td>855.66</td>\n",
              "      <td>4</td>\n",
              "      <td>9873.0000</td>\n",
              "      <td>28281.910508</td>\n",
              "      <td>18408.910508</td>\n",
              "      <td>725.177193</td>\n",
              "      <td>1054913.0</td>\n",
              "      <td>10776.0</td>\n",
              "    </tr>\n",
              "    <tr>\n",
              "      <th>3</th>\n",
              "      <td>0.0</td>\n",
              "      <td>38.00</td>\n",
              "      <td>49</td>\n",
              "      <td>25520.3886</td>\n",
              "      <td>A</td>\n",
              "      <td>Y</td>\n",
              "      <td>M</td>\n",
              "      <td>COC</td>\n",
              "      <td>300.0</td>\n",
              "      <td>0</td>\n",
              "      <td>Kerala</td>\n",
              "      <td>855.66</td>\n",
              "      <td>6</td>\n",
              "      <td>25520.3886</td>\n",
              "      <td>95073.661362</td>\n",
              "      <td>69553.272762</td>\n",
              "      <td>1940.278803</td>\n",
              "      <td>6827441.0</td>\n",
              "      <td>71527.0</td>\n",
              "    </tr>\n",
              "    <tr>\n",
              "      <th>4</th>\n",
              "      <td>0.0</td>\n",
              "      <td>38.24</td>\n",
              "      <td>39</td>\n",
              "      <td>7898.4000</td>\n",
              "      <td>A</td>\n",
              "      <td>W</td>\n",
              "      <td>M</td>\n",
              "      <td>PPT</td>\n",
              "      <td>300.0</td>\n",
              "      <td>0</td>\n",
              "      <td>Haryana</td>\n",
              "      <td>855.66</td>\n",
              "      <td>1</td>\n",
              "      <td>7898.4000</td>\n",
              "      <td>22625.528406</td>\n",
              "      <td>14727.128406</td>\n",
              "      <td>580.141754</td>\n",
              "      <td>1056560.0</td>\n",
              "      <td>10714.0</td>\n",
              "    </tr>\n",
              "  </tbody>\n",
              "</table>\n",
              "</div>\n",
              "      <button class=\"colab-df-convert\" onclick=\"convertToInteractive('df-9fee3e38-81a9-4e45-801f-06e759b661ce')\"\n",
              "              title=\"Convert this dataframe to an interactive table.\"\n",
              "              style=\"display:none;\">\n",
              "        \n",
              "  <svg xmlns=\"http://www.w3.org/2000/svg\" height=\"24px\"viewBox=\"0 0 24 24\"\n",
              "       width=\"24px\">\n",
              "    <path d=\"M0 0h24v24H0V0z\" fill=\"none\"/>\n",
              "    <path d=\"M18.56 5.44l.94 2.06.94-2.06 2.06-.94-2.06-.94-.94-2.06-.94 2.06-2.06.94zm-11 1L8.5 8.5l.94-2.06 2.06-.94-2.06-.94L8.5 2.5l-.94 2.06-2.06.94zm10 10l.94 2.06.94-2.06 2.06-.94-2.06-.94-.94-2.06-.94 2.06-2.06.94z\"/><path d=\"M17.41 7.96l-1.37-1.37c-.4-.4-.92-.59-1.43-.59-.52 0-1.04.2-1.43.59L10.3 9.45l-7.72 7.72c-.78.78-.78 2.05 0 2.83L4 21.41c.39.39.9.59 1.41.59.51 0 1.02-.2 1.41-.59l7.78-7.78 2.81-2.81c.8-.78.8-2.07 0-2.86zM5.41 20L4 18.59l7.72-7.72 1.47 1.35L5.41 20z\"/>\n",
              "  </svg>\n",
              "      </button>\n",
              "      \n",
              "  <style>\n",
              "    .colab-df-container {\n",
              "      display:flex;\n",
              "      flex-wrap:wrap;\n",
              "      gap: 12px;\n",
              "    }\n",
              "\n",
              "    .colab-df-convert {\n",
              "      background-color: #E8F0FE;\n",
              "      border: none;\n",
              "      border-radius: 50%;\n",
              "      cursor: pointer;\n",
              "      display: none;\n",
              "      fill: #1967D2;\n",
              "      height: 32px;\n",
              "      padding: 0 0 0 0;\n",
              "      width: 32px;\n",
              "    }\n",
              "\n",
              "    .colab-df-convert:hover {\n",
              "      background-color: #E2EBFA;\n",
              "      box-shadow: 0px 1px 2px rgba(60, 64, 67, 0.3), 0px 1px 3px 1px rgba(60, 64, 67, 0.15);\n",
              "      fill: #174EA6;\n",
              "    }\n",
              "\n",
              "    [theme=dark] .colab-df-convert {\n",
              "      background-color: #3B4455;\n",
              "      fill: #D2E3FC;\n",
              "    }\n",
              "\n",
              "    [theme=dark] .colab-df-convert:hover {\n",
              "      background-color: #434B5C;\n",
              "      box-shadow: 0px 1px 3px 1px rgba(0, 0, 0, 0.15);\n",
              "      filter: drop-shadow(0px 1px 2px rgba(0, 0, 0, 0.3));\n",
              "      fill: #FFFFFF;\n",
              "    }\n",
              "  </style>\n",
              "\n",
              "      <script>\n",
              "        const buttonEl =\n",
              "          document.querySelector('#df-9fee3e38-81a9-4e45-801f-06e759b661ce button.colab-df-convert');\n",
              "        buttonEl.style.display =\n",
              "          google.colab.kernel.accessAllowed ? 'block' : 'none';\n",
              "\n",
              "        async function convertToInteractive(key) {\n",
              "          const element = document.querySelector('#df-9fee3e38-81a9-4e45-801f-06e759b661ce');\n",
              "          const dataTable =\n",
              "            await google.colab.kernel.invokeFunction('convertToInteractive',\n",
              "                                                     [key], {});\n",
              "          if (!dataTable) return;\n",
              "\n",
              "          const docLinkHtml = 'Like what you see? Visit the ' +\n",
              "            '<a target=\"_blank\" href=https://colab.research.google.com/notebooks/data_table.ipynb>data table notebook</a>'\n",
              "            + ' to learn more about interactive tables.';\n",
              "          element.innerHTML = '';\n",
              "          dataTable['output_type'] = 'display_data';\n",
              "          await google.colab.output.renderOutput(dataTable, element);\n",
              "          const docLink = document.createElement('div');\n",
              "          docLink.innerHTML = docLinkHtml;\n",
              "          element.appendChild(docLink);\n",
              "        }\n",
              "      </script>\n",
              "    </div>\n",
              "  </div>\n",
              "  "
            ]
          },
          "metadata": {},
          "execution_count": 30
        }
      ]
    },
    {
      "cell_type": "code",
      "source": [
        "#### numerical variables\n",
        "data.groupby('moratorium_optin').agg('mean')[['down_payment', 'loan_int_rate', 'tenure', 'loan_amount','bureau_credit_score','age','Total Cases','Deaths',\"emi\",\"amount_got\",\"amount_repaid\",\"intrest_paid\"]]"
      ],
      "metadata": {
        "colab": {
          "base_uri": "https://localhost:8080/",
          "height": 207
        },
        "id": "ktcyjuqC8tLV",
        "outputId": "d3a3b817-5ee8-4875-bcc5-c8e11ef54215"
      },
      "execution_count": 31,
      "outputs": [
        {
          "output_type": "execute_result",
          "data": {
            "text/plain": [
              "                  down_payment  loan_int_rate     tenure   loan_amount  \\\n",
              "moratorium_optin                                                         \n",
              "0                   103.863738      38.350235  43.495647  13501.855729   \n",
              "1                    20.865914      38.417075  44.098748  10047.880912   \n",
              "\n",
              "                  bureau_credit_score     age   Total Cases        Deaths  \\\n",
              "moratorium_optin                                                            \n",
              "0                          594.906244  855.66  3.112779e+06  37462.128280   \n",
              "1                          597.084542  855.66  3.200727e+06  39161.573129   \n",
              "\n",
              "                          emi    amount_got  amount_repaid  intrest_paid  \n",
              "moratorium_optin                                                          \n",
              "0                 1004.405661  13238.650753   45965.498451  32604.623335  \n",
              "1                  756.390900   9994.590449   34518.676744  24459.893802  "
            ],
            "text/html": [
              "\n",
              "  <div id=\"df-f3ca74a9-3e53-449c-ab1e-c502871cb6bf\">\n",
              "    <div class=\"colab-df-container\">\n",
              "      <div>\n",
              "<style scoped>\n",
              "    .dataframe tbody tr th:only-of-type {\n",
              "        vertical-align: middle;\n",
              "    }\n",
              "\n",
              "    .dataframe tbody tr th {\n",
              "        vertical-align: top;\n",
              "    }\n",
              "\n",
              "    .dataframe thead th {\n",
              "        text-align: right;\n",
              "    }\n",
              "</style>\n",
              "<table border=\"1\" class=\"dataframe\">\n",
              "  <thead>\n",
              "    <tr style=\"text-align: right;\">\n",
              "      <th></th>\n",
              "      <th>down_payment</th>\n",
              "      <th>loan_int_rate</th>\n",
              "      <th>tenure</th>\n",
              "      <th>loan_amount</th>\n",
              "      <th>bureau_credit_score</th>\n",
              "      <th>age</th>\n",
              "      <th>Total Cases</th>\n",
              "      <th>Deaths</th>\n",
              "      <th>emi</th>\n",
              "      <th>amount_got</th>\n",
              "      <th>amount_repaid</th>\n",
              "      <th>intrest_paid</th>\n",
              "    </tr>\n",
              "    <tr>\n",
              "      <th>moratorium_optin</th>\n",
              "      <th></th>\n",
              "      <th></th>\n",
              "      <th></th>\n",
              "      <th></th>\n",
              "      <th></th>\n",
              "      <th></th>\n",
              "      <th></th>\n",
              "      <th></th>\n",
              "      <th></th>\n",
              "      <th></th>\n",
              "      <th></th>\n",
              "      <th></th>\n",
              "    </tr>\n",
              "  </thead>\n",
              "  <tbody>\n",
              "    <tr>\n",
              "      <th>0</th>\n",
              "      <td>103.863738</td>\n",
              "      <td>38.350235</td>\n",
              "      <td>43.495647</td>\n",
              "      <td>13501.855729</td>\n",
              "      <td>594.906244</td>\n",
              "      <td>855.66</td>\n",
              "      <td>3.112779e+06</td>\n",
              "      <td>37462.128280</td>\n",
              "      <td>1004.405661</td>\n",
              "      <td>13238.650753</td>\n",
              "      <td>45965.498451</td>\n",
              "      <td>32604.623335</td>\n",
              "    </tr>\n",
              "    <tr>\n",
              "      <th>1</th>\n",
              "      <td>20.865914</td>\n",
              "      <td>38.417075</td>\n",
              "      <td>44.098748</td>\n",
              "      <td>10047.880912</td>\n",
              "      <td>597.084542</td>\n",
              "      <td>855.66</td>\n",
              "      <td>3.200727e+06</td>\n",
              "      <td>39161.573129</td>\n",
              "      <td>756.390900</td>\n",
              "      <td>9994.590449</td>\n",
              "      <td>34518.676744</td>\n",
              "      <td>24459.893802</td>\n",
              "    </tr>\n",
              "  </tbody>\n",
              "</table>\n",
              "</div>\n",
              "      <button class=\"colab-df-convert\" onclick=\"convertToInteractive('df-f3ca74a9-3e53-449c-ab1e-c502871cb6bf')\"\n",
              "              title=\"Convert this dataframe to an interactive table.\"\n",
              "              style=\"display:none;\">\n",
              "        \n",
              "  <svg xmlns=\"http://www.w3.org/2000/svg\" height=\"24px\"viewBox=\"0 0 24 24\"\n",
              "       width=\"24px\">\n",
              "    <path d=\"M0 0h24v24H0V0z\" fill=\"none\"/>\n",
              "    <path d=\"M18.56 5.44l.94 2.06.94-2.06 2.06-.94-2.06-.94-.94-2.06-.94 2.06-2.06.94zm-11 1L8.5 8.5l.94-2.06 2.06-.94-2.06-.94L8.5 2.5l-.94 2.06-2.06.94zm10 10l.94 2.06.94-2.06 2.06-.94-2.06-.94-.94-2.06-.94 2.06-2.06.94z\"/><path d=\"M17.41 7.96l-1.37-1.37c-.4-.4-.92-.59-1.43-.59-.52 0-1.04.2-1.43.59L10.3 9.45l-7.72 7.72c-.78.78-.78 2.05 0 2.83L4 21.41c.39.39.9.59 1.41.59.51 0 1.02-.2 1.41-.59l7.78-7.78 2.81-2.81c.8-.78.8-2.07 0-2.86zM5.41 20L4 18.59l7.72-7.72 1.47 1.35L5.41 20z\"/>\n",
              "  </svg>\n",
              "      </button>\n",
              "      \n",
              "  <style>\n",
              "    .colab-df-container {\n",
              "      display:flex;\n",
              "      flex-wrap:wrap;\n",
              "      gap: 12px;\n",
              "    }\n",
              "\n",
              "    .colab-df-convert {\n",
              "      background-color: #E8F0FE;\n",
              "      border: none;\n",
              "      border-radius: 50%;\n",
              "      cursor: pointer;\n",
              "      display: none;\n",
              "      fill: #1967D2;\n",
              "      height: 32px;\n",
              "      padding: 0 0 0 0;\n",
              "      width: 32px;\n",
              "    }\n",
              "\n",
              "    .colab-df-convert:hover {\n",
              "      background-color: #E2EBFA;\n",
              "      box-shadow: 0px 1px 2px rgba(60, 64, 67, 0.3), 0px 1px 3px 1px rgba(60, 64, 67, 0.15);\n",
              "      fill: #174EA6;\n",
              "    }\n",
              "\n",
              "    [theme=dark] .colab-df-convert {\n",
              "      background-color: #3B4455;\n",
              "      fill: #D2E3FC;\n",
              "    }\n",
              "\n",
              "    [theme=dark] .colab-df-convert:hover {\n",
              "      background-color: #434B5C;\n",
              "      box-shadow: 0px 1px 3px 1px rgba(0, 0, 0, 0.15);\n",
              "      filter: drop-shadow(0px 1px 2px rgba(0, 0, 0, 0.3));\n",
              "      fill: #FFFFFF;\n",
              "    }\n",
              "  </style>\n",
              "\n",
              "      <script>\n",
              "        const buttonEl =\n",
              "          document.querySelector('#df-f3ca74a9-3e53-449c-ab1e-c502871cb6bf button.colab-df-convert');\n",
              "        buttonEl.style.display =\n",
              "          google.colab.kernel.accessAllowed ? 'block' : 'none';\n",
              "\n",
              "        async function convertToInteractive(key) {\n",
              "          const element = document.querySelector('#df-f3ca74a9-3e53-449c-ab1e-c502871cb6bf');\n",
              "          const dataTable =\n",
              "            await google.colab.kernel.invokeFunction('convertToInteractive',\n",
              "                                                     [key], {});\n",
              "          if (!dataTable) return;\n",
              "\n",
              "          const docLinkHtml = 'Like what you see? Visit the ' +\n",
              "            '<a target=\"_blank\" href=https://colab.research.google.com/notebooks/data_table.ipynb>data table notebook</a>'\n",
              "            + ' to learn more about interactive tables.';\n",
              "          element.innerHTML = '';\n",
              "          dataTable['output_type'] = 'display_data';\n",
              "          await google.colab.output.renderOutput(dataTable, element);\n",
              "          const docLink = document.createElement('div');\n",
              "          docLink.innerHTML = docLinkHtml;\n",
              "          element.appendChild(docLink);\n",
              "        }\n",
              "      </script>\n",
              "    </div>\n",
              "  </div>\n",
              "  "
            ]
          },
          "metadata": {},
          "execution_count": 31
        }
      ]
    },
    {
      "cell_type": "code",
      "source": [
        "sns.countplot(data=data,x='moratorium_optin',hue='gender')"
      ],
      "metadata": {
        "colab": {
          "base_uri": "https://localhost:8080/",
          "height": 297
        },
        "id": "qAC-7v1N899L",
        "outputId": "cab7c8e4-2882-48f3-cbbc-c426ba48e1dc"
      },
      "execution_count": 32,
      "outputs": [
        {
          "output_type": "execute_result",
          "data": {
            "text/plain": [
              "<matplotlib.axes._subplots.AxesSubplot at 0x7f28f4a6d790>"
            ]
          },
          "metadata": {},
          "execution_count": 32
        },
        {
          "output_type": "display_data",
          "data": {
            "text/plain": [
              "<Figure size 432x288 with 1 Axes>"
            ],
            "image/png": "[encoded data removed]"
          },
          "metadata": {
            "needs_background": "light"
          }
        }
      ]
    },
    {
      "cell_type": "code",
      "source": [
        "sns.countplot(data=data,x='moratorium_optin',hue='zones')"
      ],
      "metadata": {
        "colab": {
          "base_uri": "https://localhost:8080/",
          "height": 297
        },
        "id": "bcvwjOZr9QlN",
        "outputId": "a47ba9e1-cc5d-4624-bf47-e5d32e8738ed"
      },
      "execution_count": 33,
      "outputs": [
        {
          "output_type": "execute_result",
          "data": {
            "text/plain": [
              "<matplotlib.axes._subplots.AxesSubplot at 0x7f28f48ca7f0>"
            ]
          },
          "metadata": {},
          "execution_count": 33
        },
        {
          "output_type": "display_data",
          "data": {
            "text/plain": [
              "<Figure size 432x288 with 1 Axes>"
            ],
            "image/png": "[encoded data removed]"
          },
          "metadata": {
            "needs_background": "light"
          }
        }
      ]
    },
    {
      "cell_type": "code",
      "source": [
        "sns.countplot(data=data,x='moratorium_optin',hue='sector')"
      ],
      "metadata": {
        "colab": {
          "base_uri": "https://localhost:8080/",
          "height": 297
        },
        "id": "rMXKWf2W9aL0",
        "outputId": "a537c79b-3d40-4450-f75f-ff5cb0e8934c"
      },
      "execution_count": 34,
      "outputs": [
        {
          "output_type": "execute_result",
          "data": {
            "text/plain": [
              "<matplotlib.axes._subplots.AxesSubplot at 0x7f28f4bb9190>"
            ]
          },
          "metadata": {},
          "execution_count": 34
        },
        {
          "output_type": "display_data",
          "data": {
            "text/plain": [
              "<Figure size 432x288 with 1 Axes>"
            ],
            "image/png": "[encoded data removed]"
          },
          "metadata": {
            "needs_background": "light"
          }
        }
      ]
    },
    {
      "cell_type": "code",
      "source": [
        "sns.countplot(data=data,x='moratorium_optin',hue='mandate_source')"
      ],
      "metadata": {
        "colab": {
          "base_uri": "https://localhost:8080/",
          "height": 297
        },
        "id": "D5vl5I2I9jKn",
        "outputId": "f60490b2-6d01-4ba3-8470-940e3df3efd7"
      },
      "execution_count": 35,
      "outputs": [
        {
          "output_type": "execute_result",
          "data": {
            "text/plain": [
              "<matplotlib.axes._subplots.AxesSubplot at 0x7f28f4c47700>"
            ]
          },
          "metadata": {},
          "execution_count": 35
        },
        {
          "output_type": "display_data",
          "data": {
            "text/plain": [
              "<Figure size 432x288 with 1 Axes>"
            ],
            "image/png": "[encoded data removed]"
          },
          "metadata": {
            "needs_background": "light"
          }
        }
      ]
    },
    {
      "cell_type": "code",
      "source": [
        "####### state wise analysis"
      ],
      "metadata": {
        "id": "KfZ8yIMe9yOG"
      },
      "execution_count": 36,
      "outputs": []
    },
    {
      "cell_type": "code",
      "source": [
        "pt=pd.crosstab(data['State'],data['moratorium_optin']).reset_index()\n",
        "pt.columns=['State', '0', '1']\n",
        "pt['motatorium_rate']=(pt['1']/(pt['0']+pt['1']))*100\n",
        "pt.sort_values(['motatorium_rate'],ascending=False,inplace=True)"
      ],
      "metadata": {
        "id": "2pp6i6lf98XV"
      },
      "execution_count": 37,
      "outputs": []
    },
    {
      "cell_type": "code",
      "source": [
        "pt['state_group']=np.where(pt['motatorium_rate']>25,\"H\",np.where(pt['motatorium_rate']<15,\"L\",\"M\"))"
      ],
      "metadata": {
        "id": "tUUYSCtg-Ei3"
      },
      "execution_count": 38,
      "outputs": []
    },
    {
      "cell_type": "code",
      "source": [
        "pt"
      ],
      "metadata": {
        "colab": {
          "base_uri": "https://localhost:8080/",
          "height": 1000
        },
        "id": "1dkkz-sILI3W",
        "outputId": "ec852460-2705-4e84-f3ea-fed4e7d2d0aa"
      },
      "execution_count": 39,
      "outputs": [
        {
          "output_type": "execute_result",
          "data": {
            "text/plain": [
              "                    State     0    1  motatorium_rate state_group\n",
              "9             Daman & Diu     3    3        50.000000           H\n",
              "5              Chandigarh    59   29        32.954545           H\n",
              "12                Gujarat   437  191        30.414013           H\n",
              "11                    Goa   102   44        30.136986           H\n",
              "34            Uttaranchal    65   28        30.107527           H\n",
              "30                 Sikkim     7    3        30.000000           H\n",
              "32                Tripura    17    7        29.166667           H\n",
              "2       Arunachal Pradesh    11    4        26.666667           H\n",
              "35            West Bengal   472  171        26.594090           H\n",
              "28                 Punjab   178   64        26.446281           H\n",
              "21            Maharashtra  1211  424        25.932722           H\n",
              "15        Jammu & Kashmir    12    4        25.000000           M\n",
              "1          Andhra Pradesh  1864  599        24.319935           M\n",
              "31             Tamil Nadu   706  226        24.248927           M\n",
              "13                Haryana   378  119        23.943662           M\n",
              "29              Rajasthan   485  152        23.861852           M\n",
              "10                  Delhi   693  213        23.509934           M\n",
              "19                 Kerala   432  129        22.994652           M\n",
              "27            Pondicherry    14    4        22.222222           M\n",
              "18              Karnataka  1341  372        21.716287           M\n",
              "4                   Bihar   623  168        21.238938           M\n",
              "20         Madhya Pradesh   431  112        20.626151           M\n",
              "33          Uttar Pradesh  1119  280        20.014296           M\n",
              "26                 Orissa   246   60        19.607843           M\n",
              "7            Chhattisgarh   124   29        18.954248           M\n",
              "3                   Assam   155   35        18.421053           M\n",
              "17              Jharkhand   135   28        17.177914           M\n",
              "25               Nagaland    13    2        13.333333           L\n",
              "6             Chattisgarh    13    2        13.333333           L\n",
              "14       Himachal Pradesh    62    7        10.144928           L\n",
              "8   Dadra & Nagar Haveli     10    1         9.090909           L\n",
              "22                Manipur    34    3         8.108108           L\n",
              "23              Meghalaya    12    1         7.692308           L\n",
              "24                Mizoram    10    0         0.000000           L\n",
              "16      Jammu and Kashmir     1    0         0.000000           L\n",
              "0         Andaman Nicobar    11    0         0.000000           L"
            ],
            "text/html": [
              "\n",
              "  <div id=\"df-3bde4b22-c904-4979-b19f-801311698d11\">\n",
              "    <div class=\"colab-df-container\">\n",
              "      <div>\n",
              "<style scoped>\n",
              "    .dataframe tbody tr th:only-of-type {\n",
              "        vertical-align: middle;\n",
              "    }\n",
              "\n",
              "    .dataframe tbody tr th {\n",
              "        vertical-align: top;\n",
              "    }\n",
              "\n",
              "    .dataframe thead th {\n",
              "        text-align: right;\n",
              "    }\n",
              "</style>\n",
              "<table border=\"1\" class=\"dataframe\">\n",
              "  <thead>\n",
              "    <tr style=\"text-align: right;\">\n",
              "      <th></th>\n",
              "      <th>State</th>\n",
              "      <th>0</th>\n",
              "      <th>1</th>\n",
              "      <th>motatorium_rate</th>\n",
              "      <th>state_group</th>\n",
              "    </tr>\n",
              "  </thead>\n",
              "  <tbody>\n",
              "    <tr>\n",
              "      <th>9</th>\n",
              "      <td>Daman &amp; Diu</td>\n",
              "      <td>3</td>\n",
              "      <td>3</td>\n",
              "      <td>50.000000</td>\n",
              "      <td>H</td>\n",
              "    </tr>\n",
              "    <tr>\n",
              "      <th>5</th>\n",
              "      <td>Chandigarh</td>\n",
              "      <td>59</td>\n",
              "      <td>29</td>\n",
              "      <td>32.954545</td>\n",
              "      <td>H</td>\n",
              "    </tr>\n",
              "    <tr>\n",
              "      <th>12</th>\n",
              "      <td>Gujarat</td>\n",
              "      <td>437</td>\n",
              "      <td>191</td>\n",
              "      <td>30.414013</td>\n",
              "      <td>H</td>\n",
              "    </tr>\n",
              "    <tr>\n",
              "      <th>11</th>\n",
              "      <td>Goa</td>\n",
              "      <td>102</td>\n",
              "      <td>44</td>\n",
              "      <td>30.136986</td>\n",
              "      <td>H</td>\n",
              "    </tr>\n",
              "    <tr>\n",
              "      <th>34</th>\n",
              "      <td>Uttaranchal</td>\n",
              "      <td>65</td>\n",
              "      <td>28</td>\n",
              "      <td>30.107527</td>\n",
              "      <td>H</td>\n",
              "    </tr>\n",
              "    <tr>\n",
              "      <th>30</th>\n",
              "      <td>Sikkim</td>\n",
              "      <td>7</td>\n",
              "      <td>3</td>\n",
              "      <td>30.000000</td>\n",
              "      <td>H</td>\n",
              "    </tr>\n",
              "    <tr>\n",
              "      <th>32</th>\n",
              "      <td>Tripura</td>\n",
              "      <td>17</td>\n",
              "      <td>7</td>\n",
              "      <td>29.166667</td>\n",
              "      <td>H</td>\n",
              "    </tr>\n",
              "    <tr>\n",
              "      <th>2</th>\n",
              "      <td>Arunachal Pradesh</td>\n",
              "      <td>11</td>\n",
              "      <td>4</td>\n",
              "      <td>26.666667</td>\n",
              "      <td>H</td>\n",
              "    </tr>\n",
              "    <tr>\n",
              "      <th>35</th>\n",
              "      <td>West Bengal</td>\n",
              "      <td>472</td>\n",
              "      <td>171</td>\n",
              "      <td>26.594090</td>\n",
              "      <td>H</td>\n",
              "    </tr>\n",
              "    <tr>\n",
              "      <th>28</th>\n",
              "      <td>Punjab</td>\n",
              "      <td>178</td>\n",
              "      <td>64</td>\n",
              "      <td>26.446281</td>\n",
              "      <td>H</td>\n",
              "    </tr>\n",
              "    <tr>\n",
              "      <th>21</th>\n",
              "      <td>Maharashtra</td>\n",
              "      <td>1211</td>\n",
              "      <td>424</td>\n",
              "      <td>25.932722</td>\n",
              "      <td>H</td>\n",
              "    </tr>\n",
              "    <tr>\n",
              "      <th>15</th>\n",
              "      <td>Jammu &amp; Kashmir</td>\n",
              "      <td>12</td>\n",
              "      <td>4</td>\n",
              "      <td>25.000000</td>\n",
              "      <td>M</td>\n",
              "    </tr>\n",
              "    <tr>\n",
              "      <th>1</th>\n",
              "      <td>Andhra Pradesh</td>\n",
              "      <td>1864</td>\n",
              "      <td>599</td>\n",
              "      <td>24.319935</td>\n",
              "      <td>M</td>\n",
              "    </tr>\n",
              "    <tr>\n",
              "      <th>31</th>\n",
              "      <td>Tamil Nadu</td>\n",
              "      <td>706</td>\n",
              "      <td>226</td>\n",
              "      <td>24.248927</td>\n",
              "      <td>M</td>\n",
              "    </tr>\n",
              "    <tr>\n",
              "      <th>13</th>\n",
              "      <td>Haryana</td>\n",
              "      <td>378</td>\n",
              "      <td>119</td>\n",
              "      <td>23.943662</td>\n",
              "      <td>M</td>\n",
              "    </tr>\n",
              "    <tr>\n",
              "      <th>29</th>\n",
              "      <td>Rajasthan</td>\n",
              "      <td>485</td>\n",
              "      <td>152</td>\n",
              "      <td>23.861852</td>\n",
              "      <td>M</td>\n",
              "    </tr>\n",
              "    <tr>\n",
              "      <th>10</th>\n",
              "      <td>Delhi</td>\n",
              "      <td>693</td>\n",
              "      <td>213</td>\n",
              "      <td>23.509934</td>\n",
              "      <td>M</td>\n",
              "    </tr>\n",
              "    <tr>\n",
              "      <th>19</th>\n",
              "      <td>Kerala</td>\n",
              "      <td>432</td>\n",
              "      <td>129</td>\n",
              "      <td>22.994652</td>\n",
              "      <td>M</td>\n",
              "    </tr>\n",
              "    <tr>\n",
              "      <th>27</th>\n",
              "      <td>Pondicherry</td>\n",
              "      <td>14</td>\n",
              "      <td>4</td>\n",
              "      <td>22.222222</td>\n",
              "      <td>M</td>\n",
              "    </tr>\n",
              "    <tr>\n",
              "      <th>18</th>\n",
              "      <td>Karnataka</td>\n",
              "      <td>1341</td>\n",
              "      <td>372</td>\n",
              "      <td>21.716287</td>\n",
              "      <td>M</td>\n",
              "    </tr>\n",
              "    <tr>\n",
              "      <th>4</th>\n",
              "      <td>Bihar</td>\n",
              "      <td>623</td>\n",
              "      <td>168</td>\n",
              "      <td>21.238938</td>\n",
              "      <td>M</td>\n",
              "    </tr>\n",
              "    <tr>\n",
              "      <th>20</th>\n",
              "      <td>Madhya Pradesh</td>\n",
              "      <td>431</td>\n",
              "      <td>112</td>\n",
              "      <td>20.626151</td>\n",
              "      <td>M</td>\n",
              "    </tr>\n",
              "    <tr>\n",
              "      <th>33</th>\n",
              "      <td>Uttar Pradesh</td>\n",
              "      <td>1119</td>\n",
              "      <td>280</td>\n",
              "      <td>20.014296</td>\n",
              "      <td>M</td>\n",
              "    </tr>\n",
              "    <tr>\n",
              "      <th>26</th>\n",
              "      <td>Orissa</td>\n",
              "      <td>246</td>\n",
              "      <td>60</td>\n",
              "      <td>19.607843</td>\n",
              "      <td>M</td>\n",
              "    </tr>\n",
              "    <tr>\n",
              "      <th>7</th>\n",
              "      <td>Chhattisgarh</td>\n",
              "      <td>124</td>\n",
              "      <td>29</td>\n",
              "      <td>18.954248</td>\n",
              "      <td>M</td>\n",
              "    </tr>\n",
              "    <tr>\n",
              "      <th>3</th>\n",
              "      <td>Assam</td>\n",
              "      <td>155</td>\n",
              "      <td>35</td>\n",
              "      <td>18.421053</td>\n",
              "      <td>M</td>\n",
              "    </tr>\n",
              "    <tr>\n",
              "      <th>17</th>\n",
              "      <td>Jharkhand</td>\n",
              "      <td>135</td>\n",
              "      <td>28</td>\n",
              "      <td>17.177914</td>\n",
              "      <td>M</td>\n",
              "    </tr>\n",
              "    <tr>\n",
              "      <th>25</th>\n",
              "      <td>Nagaland</td>\n",
              "      <td>13</td>\n",
              "      <td>2</td>\n",
              "      <td>13.333333</td>\n",
              "      <td>L</td>\n",
              "    </tr>\n",
              "    <tr>\n",
              "      <th>6</th>\n",
              "      <td>Chattisgarh</td>\n",
              "      <td>13</td>\n",
              "      <td>2</td>\n",
              "      <td>13.333333</td>\n",
              "      <td>L</td>\n",
              "    </tr>\n",
              "    <tr>\n",
              "      <th>14</th>\n",
              "      <td>Himachal Pradesh</td>\n",
              "      <td>62</td>\n",
              "      <td>7</td>\n",
              "      <td>10.144928</td>\n",
              "      <td>L</td>\n",
              "    </tr>\n",
              "    <tr>\n",
              "      <th>8</th>\n",
              "      <td>Dadra &amp; Nagar Haveli</td>\n",
              "      <td>10</td>\n",
              "      <td>1</td>\n",
              "      <td>9.090909</td>\n",
              "      <td>L</td>\n",
              "    </tr>\n",
              "    <tr>\n",
              "      <th>22</th>\n",
              "      <td>Manipur</td>\n",
              "      <td>34</td>\n",
              "      <td>3</td>\n",
              "      <td>8.108108</td>\n",
              "      <td>L</td>\n",
              "    </tr>\n",
              "    <tr>\n",
              "      <th>23</th>\n",
              "      <td>Meghalaya</td>\n",
              "      <td>12</td>\n",
              "      <td>1</td>\n",
              "      <td>7.692308</td>\n",
              "      <td>L</td>\n",
              "    </tr>\n",
              "    <tr>\n",
              "      <th>24</th>\n",
              "      <td>Mizoram</td>\n",
              "      <td>10</td>\n",
              "      <td>0</td>\n",
              "      <td>0.000000</td>\n",
              "      <td>L</td>\n",
              "    </tr>\n",
              "    <tr>\n",
              "      <th>16</th>\n",
              "      <td>Jammu and Kashmir</td>\n",
              "      <td>1</td>\n",
              "      <td>0</td>\n",
              "      <td>0.000000</td>\n",
              "      <td>L</td>\n",
              "    </tr>\n",
              "    <tr>\n",
              "      <th>0</th>\n",
              "      <td>Andaman Nicobar</td>\n",
              "      <td>11</td>\n",
              "      <td>0</td>\n",
              "      <td>0.000000</td>\n",
              "      <td>L</td>\n",
              "    </tr>\n",
              "  </tbody>\n",
              "</table>\n",
              "</div>\n",
              "      <button class=\"colab-df-convert\" onclick=\"convertToInteractive('df-3bde4b22-c904-4979-b19f-801311698d11')\"\n",
              "              title=\"Convert this dataframe to an interactive table.\"\n",
              "              style=\"display:none;\">\n",
              "        \n",
              "  <svg xmlns=\"http://www.w3.org/2000/svg\" height=\"24px\"viewBox=\"0 0 24 24\"\n",
              "       width=\"24px\">\n",
              "    <path d=\"M0 0h24v24H0V0z\" fill=\"none\"/>\n",
              "    <path d=\"M18.56 5.44l.94 2.06.94-2.06 2.06-.94-2.06-.94-.94-2.06-.94 2.06-2.06.94zm-11 1L8.5 8.5l.94-2.06 2.06-.94-2.06-.94L8.5 2.5l-.94 2.06-2.06.94zm10 10l.94 2.06.94-2.06 2.06-.94-2.06-.94-.94-2.06-.94 2.06-2.06.94z\"/><path d=\"M17.41 7.96l-1.37-1.37c-.4-.4-.92-.59-1.43-.59-.52 0-1.04.2-1.43.59L10.3 9.45l-7.72 7.72c-.78.78-.78 2.05 0 2.83L4 21.41c.39.39.9.59 1.41.59.51 0 1.02-.2 1.41-.59l7.78-7.78 2.81-2.81c.8-.78.8-2.07 0-2.86zM5.41 20L4 18.59l7.72-7.72 1.47 1.35L5.41 20z\"/>\n",
              "  </svg>\n",
              "      </button>\n",
              "      \n",
              "  <style>\n",
              "    .colab-df-container {\n",
              "      display:flex;\n",
              "      flex-wrap:wrap;\n",
              "      gap: 12px;\n",
              "    }\n",
              "\n",
              "    .colab-df-convert {\n",
              "      background-color: #E8F0FE;\n",
              "      border: none;\n",
              "      border-radius: 50%;\n",
              "      cursor: pointer;\n",
              "      display: none;\n",
              "      fill: #1967D2;\n",
              "      height: 32px;\n",
              "      padding: 0 0 0 0;\n",
              "      width: 32px;\n",
              "    }\n",
              "\n",
              "    .colab-df-convert:hover {\n",
              "      background-color: #E2EBFA;\n",
              "      box-shadow: 0px 1px 2px rgba(60, 64, 67, 0.3), 0px 1px 3px 1px rgba(60, 64, 67, 0.15);\n",
              "      fill: #174EA6;\n",
              "    }\n",
              "\n",
              "    [theme=dark] .colab-df-convert {\n",
              "      background-color: #3B4455;\n",
              "      fill: #D2E3FC;\n",
              "    }\n",
              "\n",
              "    [theme=dark] .colab-df-convert:hover {\n",
              "      background-color: #434B5C;\n",
              "      box-shadow: 0px 1px 3px 1px rgba(0, 0, 0, 0.15);\n",
              "      filter: drop-shadow(0px 1px 2px rgba(0, 0, 0, 0.3));\n",
              "      fill: #FFFFFF;\n",
              "    }\n",
              "  </style>\n",
              "\n",
              "      <script>\n",
              "        const buttonEl =\n",
              "          document.querySelector('#df-3bde4b22-c904-4979-b19f-801311698d11 button.colab-df-convert');\n",
              "        buttonEl.style.display =\n",
              "          google.colab.kernel.accessAllowed ? 'block' : 'none';\n",
              "\n",
              "        async function convertToInteractive(key) {\n",
              "          const element = document.querySelector('#df-3bde4b22-c904-4979-b19f-801311698d11');\n",
              "          const dataTable =\n",
              "            await google.colab.kernel.invokeFunction('convertToInteractive',\n",
              "                                                     [key], {});\n",
              "          if (!dataTable) return;\n",
              "\n",
              "          const docLinkHtml = 'Like what you see? Visit the ' +\n",
              "            '<a target=\"_blank\" href=https://colab.research.google.com/notebooks/data_table.ipynb>data table notebook</a>'\n",
              "            + ' to learn more about interactive tables.';\n",
              "          element.innerHTML = '';\n",
              "          dataTable['output_type'] = 'display_data';\n",
              "          await google.colab.output.renderOutput(dataTable, element);\n",
              "          const docLink = document.createElement('div');\n",
              "          docLink.innerHTML = docLinkHtml;\n",
              "          element.appendChild(docLink);\n",
              "        }\n",
              "      </script>\n",
              "    </div>\n",
              "  </div>\n",
              "  "
            ]
          },
          "metadata": {},
          "execution_count": 39
        }
      ]
    },
    {
      "cell_type": "code",
      "source": [
        "pt=pt[['State','state_group']]"
      ],
      "metadata": {
        "id": "7FMQ9Tg0LMUG"
      },
      "execution_count": 40,
      "outputs": []
    },
    {
      "cell_type": "code",
      "source": [
        "####### city wise analysis"
      ],
      "metadata": {
        "id": "uIiBJFsi-0ZE"
      },
      "execution_count": 41,
      "outputs": []
    },
    {
      "cell_type": "code",
      "source": [
        "ct=pd.crosstab(data['city'],data['moratorium_optin']).reset_index()\n",
        "ct.columns=['city', '0', '1']\n",
        "ct['motatorium_rate']=(ct['1']/(ct['0']+ct['1']))*100\n",
        "ct.sort_values(['motatorium_rate'],ascending=False,inplace=True)\n",
        "ct['city_group']=np.where(ct['motatorium_rate']>75,\"H\",np.where(ct['motatorium_rate']<25,\"L\",\"M\"))\n"
      ],
      "metadata": {
        "id": "Z4H7szYPCVhD"
      },
      "execution_count": 42,
      "outputs": []
    },
    {
      "cell_type": "code",
      "source": [
        "ct"
      ],
      "metadata": {
        "colab": {
          "base_uri": "https://localhost:8080/",
          "height": 424
        },
        "id": "hf-9dm6tCaWc",
        "outputId": "22b663b3-71e0-4148-dc10-1514a9fa91a1"
      },
      "execution_count": 43,
      "outputs": [
        {
          "output_type": "execute_result",
          "data": {
            "text/plain": [
              "               city  0  1  motatorium_rate city_group\n",
              "854             NMH  0  1            100.0          H\n",
              "640            KRIA  0  1            100.0          H\n",
              "1198           THIA  0  1            100.0          H\n",
              "180            BNWR  0  2            100.0          H\n",
              "96             BAAP  0  1            100.0          H\n",
              "...             ... .. ..              ...        ...\n",
              "362             EDA  1  0              0.0          L\n",
              "841             NHK  1  0              0.0          L\n",
              "360   Doddakannalli  1  0              0.0          L\n",
              "843             NIC  1  0              0.0          L\n",
              "1324           puri  1  0              0.0          L\n",
              "\n",
              "[1325 rows x 5 columns]"
            ],
            "text/html": [
              "\n",
              "  <div id=\"df-eee1057a-c74f-40f0-bf2a-ef00df441822\">\n",
              "    <div class=\"colab-df-container\">\n",
              "      <div>\n",
              "<style scoped>\n",
              "    .dataframe tbody tr th:only-of-type {\n",
              "        vertical-align: middle;\n",
              "    }\n",
              "\n",
              "    .dataframe tbody tr th {\n",
              "        vertical-align: top;\n",
              "    }\n",
              "\n",
              "    .dataframe thead th {\n",
              "        text-align: right;\n",
              "    }\n",
              "</style>\n",
              "<table border=\"1\" class=\"dataframe\">\n",
              "  <thead>\n",
              "    <tr style=\"text-align: right;\">\n",
              "      <th></th>\n",
              "      <th>city</th>\n",
              "      <th>0</th>\n",
              "      <th>1</th>\n",
              "      <th>motatorium_rate</th>\n",
              "      <th>city_group</th>\n",
              "    </tr>\n",
              "  </thead>\n",
              "  <tbody>\n",
              "    <tr>\n",
              "      <th>854</th>\n",
              "      <td>NMH</td>\n",
              "      <td>0</td>\n",
              "      <td>1</td>\n",
              "      <td>100.0</td>\n",
              "      <td>H</td>\n",
              "    </tr>\n",
              "    <tr>\n",
              "      <th>640</th>\n",
              "      <td>KRIA</td>\n",
              "      <td>0</td>\n",
              "      <td>1</td>\n",
              "      <td>100.0</td>\n",
              "      <td>H</td>\n",
              "    </tr>\n",
              "    <tr>\n",
              "      <th>1198</th>\n",
              "      <td>THIA</td>\n",
              "      <td>0</td>\n",
              "      <td>1</td>\n",
              "      <td>100.0</td>\n",
              "      <td>H</td>\n",
              "    </tr>\n",
              "    <tr>\n",
              "      <th>180</th>\n",
              "      <td>BNWR</td>\n",
              "      <td>0</td>\n",
              "      <td>2</td>\n",
              "      <td>100.0</td>\n",
              "      <td>H</td>\n",
              "    </tr>\n",
              "    <tr>\n",
              "      <th>96</th>\n",
              "      <td>BAAP</td>\n",
              "      <td>0</td>\n",
              "      <td>1</td>\n",
              "      <td>100.0</td>\n",
              "      <td>H</td>\n",
              "    </tr>\n",
              "    <tr>\n",
              "      <th>...</th>\n",
              "      <td>...</td>\n",
              "      <td>...</td>\n",
              "      <td>...</td>\n",
              "      <td>...</td>\n",
              "      <td>...</td>\n",
              "    </tr>\n",
              "    <tr>\n",
              "      <th>362</th>\n",
              "      <td>EDA</td>\n",
              "      <td>1</td>\n",
              "      <td>0</td>\n",
              "      <td>0.0</td>\n",
              "      <td>L</td>\n",
              "    </tr>\n",
              "    <tr>\n",
              "      <th>841</th>\n",
              "      <td>NHK</td>\n",
              "      <td>1</td>\n",
              "      <td>0</td>\n",
              "      <td>0.0</td>\n",
              "      <td>L</td>\n",
              "    </tr>\n",
              "    <tr>\n",
              "      <th>360</th>\n",
              "      <td>Doddakannalli</td>\n",
              "      <td>1</td>\n",
              "      <td>0</td>\n",
              "      <td>0.0</td>\n",
              "      <td>L</td>\n",
              "    </tr>\n",
              "    <tr>\n",
              "      <th>843</th>\n",
              "      <td>NIC</td>\n",
              "      <td>1</td>\n",
              "      <td>0</td>\n",
              "      <td>0.0</td>\n",
              "      <td>L</td>\n",
              "    </tr>\n",
              "    <tr>\n",
              "      <th>1324</th>\n",
              "      <td>puri</td>\n",
              "      <td>1</td>\n",
              "      <td>0</td>\n",
              "      <td>0.0</td>\n",
              "      <td>L</td>\n",
              "    </tr>\n",
              "  </tbody>\n",
              "</table>\n",
              "<p>1325 rows × 5 columns</p>\n",
              "</div>\n",
              "      <button class=\"colab-df-convert\" onclick=\"convertToInteractive('df-eee1057a-c74f-40f0-bf2a-ef00df441822')\"\n",
              "              title=\"Convert this dataframe to an interactive table.\"\n",
              "              style=\"display:none;\">\n",
              "        \n",
              "  <svg xmlns=\"http://www.w3.org/2000/svg\" height=\"24px\"viewBox=\"0 0 24 24\"\n",
              "       width=\"24px\">\n",
              "    <path d=\"M0 0h24v24H0V0z\" fill=\"none\"/>\n",
              "    <path d=\"M18.56 5.44l.94 2.06.94-2.06 2.06-.94-2.06-.94-.94-2.06-.94 2.06-2.06.94zm-11 1L8.5 8.5l.94-2.06 2.06-.94-2.06-.94L8.5 2.5l-.94 2.06-2.06.94zm10 10l.94 2.06.94-2.06 2.06-.94-2.06-.94-.94-2.06-.94 2.06-2.06.94z\"/><path d=\"M17.41 7.96l-1.37-1.37c-.4-.4-.92-.59-1.43-.59-.52 0-1.04.2-1.43.59L10.3 9.45l-7.72 7.72c-.78.78-.78 2.05 0 2.83L4 21.41c.39.39.9.59 1.41.59.51 0 1.02-.2 1.41-.59l7.78-7.78 2.81-2.81c.8-.78.8-2.07 0-2.86zM5.41 20L4 18.59l7.72-7.72 1.47 1.35L5.41 20z\"/>\n",
              "  </svg>\n",
              "      </button>\n",
              "      \n",
              "  <style>\n",
              "    .colab-df-container {\n",
              "      display:flex;\n",
              "      flex-wrap:wrap;\n",
              "      gap: 12px;\n",
              "    }\n",
              "\n",
              "    .colab-df-convert {\n",
              "      background-color: #E8F0FE;\n",
              "      border: none;\n",
              "      border-radius: 50%;\n",
              "      cursor: pointer;\n",
              "      display: none;\n",
              "      fill: #1967D2;\n",
              "      height: 32px;\n",
              "      padding: 0 0 0 0;\n",
              "      width: 32px;\n",
              "    }\n",
              "\n",
              "    .colab-df-convert:hover {\n",
              "      background-color: #E2EBFA;\n",
              "      box-shadow: 0px 1px 2px rgba(60, 64, 67, 0.3), 0px 1px 3px 1px rgba(60, 64, 67, 0.15);\n",
              "      fill: #174EA6;\n",
              "    }\n",
              "\n",
              "    [theme=dark] .colab-df-convert {\n",
              "      background-color: #3B4455;\n",
              "      fill: #D2E3FC;\n",
              "    }\n",
              "\n",
              "    [theme=dark] .colab-df-convert:hover {\n",
              "      background-color: #434B5C;\n",
              "      box-shadow: 0px 1px 3px 1px rgba(0, 0, 0, 0.15);\n",
              "      filter: drop-shadow(0px 1px 2px rgba(0, 0, 0, 0.3));\n",
              "      fill: #FFFFFF;\n",
              "    }\n",
              "  </style>\n",
              "\n",
              "      <script>\n",
              "        const buttonEl =\n",
              "          document.querySelector('#df-eee1057a-c74f-40f0-bf2a-ef00df441822 button.colab-df-convert');\n",
              "        buttonEl.style.display =\n",
              "          google.colab.kernel.accessAllowed ? 'block' : 'none';\n",
              "\n",
              "        async function convertToInteractive(key) {\n",
              "          const element = document.querySelector('#df-eee1057a-c74f-40f0-bf2a-ef00df441822');\n",
              "          const dataTable =\n",
              "            await google.colab.kernel.invokeFunction('convertToInteractive',\n",
              "                                                     [key], {});\n",
              "          if (!dataTable) return;\n",
              "\n",
              "          const docLinkHtml = 'Like what you see? Visit the ' +\n",
              "            '<a target=\"_blank\" href=https://colab.research.google.com/notebooks/data_table.ipynb>data table notebook</a>'\n",
              "            + ' to learn more about interactive tables.';\n",
              "          element.innerHTML = '';\n",
              "          dataTable['output_type'] = 'display_data';\n",
              "          await google.colab.output.renderOutput(dataTable, element);\n",
              "          const docLink = document.createElement('div');\n",
              "          docLink.innerHTML = docLinkHtml;\n",
              "          element.appendChild(docLink);\n",
              "        }\n",
              "      </script>\n",
              "    </div>\n",
              "  </div>\n",
              "  "
            ]
          },
          "metadata": {},
          "execution_count": 43
        }
      ]
    },
    {
      "cell_type": "code",
      "source": [
        "ct=ct[['city','city_group']]"
      ],
      "metadata": {
        "id": "NWIcJpzqMCND"
      },
      "execution_count": 44,
      "outputs": []
    },
    {
      "cell_type": "code",
      "source": [
        "data.head()"
      ],
      "metadata": {
        "colab": {
          "base_uri": "https://localhost:8080/",
          "height": 305
        },
        "id": "SB2rW2KR4gBs",
        "outputId": "ee164497-5a03-47d6-a54d-f2b13f0f2541"
      },
      "execution_count": 45,
      "outputs": [
        {
          "output_type": "execute_result",
          "data": {
            "text/plain": [
              "   down_payment  loan_int_rate  tenure  loan_amount sector mandate_source  \\\n",
              "0           0.0          38.24      42    5265.6000      A              X   \n",
              "1           0.0          38.24      39    8556.6000      A              W   \n",
              "2           0.0          38.24      39    9873.0000      A              W   \n",
              "3           0.0          38.00      49   25520.3886      A              Y   \n",
              "4           0.0          38.24      39    7898.4000      A              W   \n",
              "\n",
              "  gender city  bureau_credit_score  moratorium_optin           State     age  \\\n",
              "0      M  PNE                735.0                 0     Maharashtra  855.66   \n",
              "1      M  HUB                775.0                 0       Karnataka  855.66   \n",
              "2      M  STA                770.0                 1  Madhya Pradesh  855.66   \n",
              "3      M  COC                300.0                 0          Kerala  855.66   \n",
              "4      M  PPT                300.0                 0         Haryana  855.66   \n",
              "\n",
              "  zones  amount_got  amount_repaid  intrest_paid          emi  Total Cases  \\\n",
              "0     4   5265.6000   16355.578240  11089.978240   389.418530    8136274.0   \n",
              "1     5   8556.6000   24510.989107  15954.389107   628.486900    4071630.0   \n",
              "2     4   9873.0000   28281.910508  18408.910508   725.177193    1054913.0   \n",
              "3     6  25520.3886   95073.661362  69553.272762  1940.278803    6827441.0   \n",
              "4     1   7898.4000   22625.528406  14727.128406   580.141754    1056560.0   \n",
              "\n",
              "     Deaths  \n",
              "0  148409.0  \n",
              "1   40307.0  \n",
              "2   10776.0  \n",
              "3   71527.0  \n",
              "4   10714.0  "
            ],
            "text/html": [
              "\n",
              "  <div id=\"df-fafd0ab1-2fe9-453a-8206-784f7ab33d6c\">\n",
              "    <div class=\"colab-df-container\">\n",
              "      <div>\n",
              "<style scoped>\n",
              "    .dataframe tbody tr th:only-of-type {\n",
              "        vertical-align: middle;\n",
              "    }\n",
              "\n",
              "    .dataframe tbody tr th {\n",
              "        vertical-align: top;\n",
              "    }\n",
              "\n",
              "    .dataframe thead th {\n",
              "        text-align: right;\n",
              "    }\n",
              "</style>\n",
              "<table border=\"1\" class=\"dataframe\">\n",
              "  <thead>\n",
              "    <tr style=\"text-align: right;\">\n",
              "      <th></th>\n",
              "      <th>down_payment</th>\n",
              "      <th>loan_int_rate</th>\n",
              "      <th>tenure</th>\n",
              "      <th>loan_amount</th>\n",
              "      <th>sector</th>\n",
              "      <th>mandate_source</th>\n",
              "      <th>gender</th>\n",
              "      <th>city</th>\n",
              "      <th>bureau_credit_score</th>\n",
              "      <th>moratorium_optin</th>\n",
              "      <th>State</th>\n",
              "      <th>age</th>\n",
              "      <th>zones</th>\n",
              "      <th>amount_got</th>\n",
              "      <th>amount_repaid</th>\n",
              "      <th>intrest_paid</th>\n",
              "      <th>emi</th>\n",
              "      <th>Total Cases</th>\n",
              "      <th>Deaths</th>\n",
              "    </tr>\n",
              "  </thead>\n",
              "  <tbody>\n",
              "    <tr>\n",
              "      <th>0</th>\n",
              "      <td>0.0</td>\n",
              "      <td>38.24</td>\n",
              "      <td>42</td>\n",
              "      <td>5265.6000</td>\n",
              "      <td>A</td>\n",
              "      <td>X</td>\n",
              "      <td>M</td>\n",
              "      <td>PNE</td>\n",
              "      <td>735.0</td>\n",
              "      <td>0</td>\n",
              "      <td>Maharashtra</td>\n",
              "      <td>855.66</td>\n",
              "      <td>4</td>\n",
              "      <td>5265.6000</td>\n",
              "      <td>16355.578240</td>\n",
              "      <td>11089.978240</td>\n",
              "      <td>389.418530</td>\n",
              "      <td>8136274.0</td>\n",
              "      <td>148409.0</td>\n",
              "    </tr>\n",
              "    <tr>\n",
              "      <th>1</th>\n",
              "      <td>0.0</td>\n",
              "      <td>38.24</td>\n",
              "      <td>39</td>\n",
              "      <td>8556.6000</td>\n",
              "      <td>A</td>\n",
              "      <td>W</td>\n",
              "      <td>M</td>\n",
              "      <td>HUB</td>\n",
              "      <td>775.0</td>\n",
              "      <td>0</td>\n",
              "      <td>Karnataka</td>\n",
              "      <td>855.66</td>\n",
              "      <td>5</td>\n",
              "      <td>8556.6000</td>\n",
              "      <td>24510.989107</td>\n",
              "      <td>15954.389107</td>\n",
              "      <td>628.486900</td>\n",
              "      <td>4071630.0</td>\n",
              "      <td>40307.0</td>\n",
              "    </tr>\n",
              "    <tr>\n",
              "      <th>2</th>\n",
              "      <td>0.0</td>\n",
              "      <td>38.24</td>\n",
              "      <td>39</td>\n",
              "      <td>9873.0000</td>\n",
              "      <td>A</td>\n",
              "      <td>W</td>\n",
              "      <td>M</td>\n",
              "      <td>STA</td>\n",
              "      <td>770.0</td>\n",
              "      <td>1</td>\n",
              "      <td>Madhya Pradesh</td>\n",
              "      <td>855.66</td>\n",
              "      <td>4</td>\n",
              "      <td>9873.0000</td>\n",
              "      <td>28281.910508</td>\n",
              "      <td>18408.910508</td>\n",
              "      <td>725.177193</td>\n",
              "      <td>1054913.0</td>\n",
              "      <td>10776.0</td>\n",
              "    </tr>\n",
              "    <tr>\n",
              "      <th>3</th>\n",
              "      <td>0.0</td>\n",
              "      <td>38.00</td>\n",
              "      <td>49</td>\n",
              "      <td>25520.3886</td>\n",
              "      <td>A</td>\n",
              "      <td>Y</td>\n",
              "      <td>M</td>\n",
              "      <td>COC</td>\n",
              "      <td>300.0</td>\n",
              "      <td>0</td>\n",
              "      <td>Kerala</td>\n",
              "      <td>855.66</td>\n",
              "      <td>6</td>\n",
              "      <td>25520.3886</td>\n",
              "      <td>95073.661362</td>\n",
              "      <td>69553.272762</td>\n",
              "      <td>1940.278803</td>\n",
              "      <td>6827441.0</td>\n",
              "      <td>71527.0</td>\n",
              "    </tr>\n",
              "    <tr>\n",
              "      <th>4</th>\n",
              "      <td>0.0</td>\n",
              "      <td>38.24</td>\n",
              "      <td>39</td>\n",
              "      <td>7898.4000</td>\n",
              "      <td>A</td>\n",
              "      <td>W</td>\n",
              "      <td>M</td>\n",
              "      <td>PPT</td>\n",
              "      <td>300.0</td>\n",
              "      <td>0</td>\n",
              "      <td>Haryana</td>\n",
              "      <td>855.66</td>\n",
              "      <td>1</td>\n",
              "      <td>7898.4000</td>\n",
              "      <td>22625.528406</td>\n",
              "      <td>14727.128406</td>\n",
              "      <td>580.141754</td>\n",
              "      <td>1056560.0</td>\n",
              "      <td>10714.0</td>\n",
              "    </tr>\n",
              "  </tbody>\n",
              "</table>\n",
              "</div>\n",
              "      <button class=\"colab-df-convert\" onclick=\"convertToInteractive('df-fafd0ab1-2fe9-453a-8206-784f7ab33d6c')\"\n",
              "              title=\"Convert this dataframe to an interactive table.\"\n",
              "              style=\"display:none;\">\n",
              "        \n",
              "  <svg xmlns=\"http://www.w3.org/2000/svg\" height=\"24px\"viewBox=\"0 0 24 24\"\n",
              "       width=\"24px\">\n",
              "    <path d=\"M0 0h24v24H0V0z\" fill=\"none\"/>\n",
              "    <path d=\"M18.56 5.44l.94 2.06.94-2.06 2.06-.94-2.06-.94-.94-2.06-.94 2.06-2.06.94zm-11 1L8.5 8.5l.94-2.06 2.06-.94-2.06-.94L8.5 2.5l-.94 2.06-2.06.94zm10 10l.94 2.06.94-2.06 2.06-.94-2.06-.94-.94-2.06-.94 2.06-2.06.94z\"/><path d=\"M17.41 7.96l-1.37-1.37c-.4-.4-.92-.59-1.43-.59-.52 0-1.04.2-1.43.59L10.3 9.45l-7.72 7.72c-.78.78-.78 2.05 0 2.83L4 21.41c.39.39.9.59 1.41.59.51 0 1.02-.2 1.41-.59l7.78-7.78 2.81-2.81c.8-.78.8-2.07 0-2.86zM5.41 20L4 18.59l7.72-7.72 1.47 1.35L5.41 20z\"/>\n",
              "  </svg>\n",
              "      </button>\n",
              "      \n",
              "  <style>\n",
              "    .colab-df-container {\n",
              "      display:flex;\n",
              "      flex-wrap:wrap;\n",
              "      gap: 12px;\n",
              "    }\n",
              "\n",
              "    .colab-df-convert {\n",
              "      background-color: #E8F0FE;\n",
              "      border: none;\n",
              "      border-radius: 50%;\n",
              "      cursor: pointer;\n",
              "      display: none;\n",
              "      fill: #1967D2;\n",
              "      height: 32px;\n",
              "      padding: 0 0 0 0;\n",
              "      width: 32px;\n",
              "    }\n",
              "\n",
              "    .colab-df-convert:hover {\n",
              "      background-color: #E2EBFA;\n",
              "      box-shadow: 0px 1px 2px rgba(60, 64, 67, 0.3), 0px 1px 3px 1px rgba(60, 64, 67, 0.15);\n",
              "      fill: #174EA6;\n",
              "    }\n",
              "\n",
              "    [theme=dark] .colab-df-convert {\n",
              "      background-color: #3B4455;\n",
              "      fill: #D2E3FC;\n",
              "    }\n",
              "\n",
              "    [theme=dark] .colab-df-convert:hover {\n",
              "      background-color: #434B5C;\n",
              "      box-shadow: 0px 1px 3px 1px rgba(0, 0, 0, 0.15);\n",
              "      filter: drop-shadow(0px 1px 2px rgba(0, 0, 0, 0.3));\n",
              "      fill: #FFFFFF;\n",
              "    }\n",
              "  </style>\n",
              "\n",
              "      <script>\n",
              "        const buttonEl =\n",
              "          document.querySelector('#df-fafd0ab1-2fe9-453a-8206-784f7ab33d6c button.colab-df-convert');\n",
              "        buttonEl.style.display =\n",
              "          google.colab.kernel.accessAllowed ? 'block' : 'none';\n",
              "\n",
              "        async function convertToInteractive(key) {\n",
              "          const element = document.querySelector('#df-fafd0ab1-2fe9-453a-8206-784f7ab33d6c');\n",
              "          const dataTable =\n",
              "            await google.colab.kernel.invokeFunction('convertToInteractive',\n",
              "                                                     [key], {});\n",
              "          if (!dataTable) return;\n",
              "\n",
              "          const docLinkHtml = 'Like what you see? Visit the ' +\n",
              "            '<a target=\"_blank\" href=https://colab.research.google.com/notebooks/data_table.ipynb>data table notebook</a>'\n",
              "            + ' to learn more about interactive tables.';\n",
              "          element.innerHTML = '';\n",
              "          dataTable['output_type'] = 'display_data';\n",
              "          await google.colab.output.renderOutput(dataTable, element);\n",
              "          const docLink = document.createElement('div');\n",
              "          docLink.innerHTML = docLinkHtml;\n",
              "          element.appendChild(docLink);\n",
              "        }\n",
              "      </script>\n",
              "    </div>\n",
              "  </div>\n",
              "  "
            ]
          },
          "metadata": {},
          "execution_count": 45
        }
      ]
    },
    {
      "cell_type": "code",
      "source": [
        "data=pd.merge(data,pt,on=\"State\",how=\"left\")\n",
        "data=pd.merge(data,ct,on=\"city\",how=\"left\")"
      ],
      "metadata": {
        "id": "gpw94XEhMOyA"
      },
      "execution_count": 46,
      "outputs": []
    },
    {
      "cell_type": "code",
      "source": [
        "data_boxplot.corr()\n"
      ],
      "metadata": {
        "colab": {
          "base_uri": "https://localhost:8080/",
          "height": 507
        },
        "id": "enbn0Yq3CbUn",
        "outputId": "4f714e70-2e38-4009-e09c-c56b37b49eca"
      },
      "execution_count": 47,
      "outputs": [
        {
          "output_type": "execute_result",
          "data": {
            "text/plain": [
              "                     down_payment  loan_int_rate    tenure  loan_amount  \\\n",
              "down_payment             1.000000      -0.092116  0.081642     0.250590   \n",
              "loan_int_rate           -0.092116       1.000000 -0.054459    -0.149744   \n",
              "tenure                   0.081642      -0.054459  1.000000     0.416080   \n",
              "loan_amount              0.250590      -0.149744  0.416080     1.000000   \n",
              "bureau_credit_score      0.028499       0.004620  0.001719     0.049021   \n",
              "age                      0.084013       0.007308  0.117339     0.108890   \n",
              "Deaths                   0.008219      -0.031419  0.050445     0.026012   \n",
              "Total Cases              0.017707      -0.025501  0.064158     0.038069   \n",
              "amount_got               0.175042      -0.144939  0.416642     0.997011   \n",
              "amount_repaid            0.235782      -0.091876  0.450653     0.989787   \n",
              "intrest_paid             0.229282      -0.070610  0.460836     0.981180   \n",
              "emi                      0.251385      -0.069787  0.402910     0.989040   \n",
              "\n",
              "                     bureau_credit_score       age    Deaths  Total Cases  \\\n",
              "down_payment                    0.028499  0.084013  0.008219     0.017707   \n",
              "loan_int_rate                   0.004620  0.007308 -0.031419    -0.025501   \n",
              "tenure                          0.001719  0.117339  0.050445     0.064158   \n",
              "loan_amount                     0.049021  0.108890  0.026012     0.038069   \n",
              "bureau_credit_score             1.000000  0.062512  0.004299     0.010171   \n",
              "age                             0.062512  1.000000  0.046804     0.059029   \n",
              "Deaths                          0.004299  0.046804  1.000000     0.929928   \n",
              "Total Cases                     0.010171  0.059029  0.929928     1.000000   \n",
              "amount_got                      0.047580  0.104037  0.025798     0.037303   \n",
              "amount_repaid                   0.048325  0.107634  0.024140     0.036316   \n",
              "intrest_paid                    0.047834  0.106645  0.023346     0.035505   \n",
              "emi                             0.048942  0.113355  0.023289     0.036009   \n",
              "\n",
              "                     amount_got  amount_repaid  intrest_paid       emi  \n",
              "down_payment           0.175042       0.235782      0.229282  0.251385  \n",
              "loan_int_rate         -0.144939      -0.091876     -0.070610 -0.069787  \n",
              "tenure                 0.416642       0.450653      0.460836  0.402910  \n",
              "loan_amount            0.997011       0.989787      0.981180  0.989040  \n",
              "bureau_credit_score    0.047580       0.048325      0.047834  0.048942  \n",
              "age                    0.104037       0.107634      0.106645  0.113355  \n",
              "Deaths                 0.025798       0.024140      0.023346  0.023289  \n",
              "Total Cases            0.037303       0.036316      0.035505  0.036009  \n",
              "amount_got             1.000000       0.987806      0.979571  0.985801  \n",
              "amount_repaid          0.987806       1.000000      0.998685  0.991860  \n",
              "intrest_paid           0.979571       0.998685      1.000000  0.987928  \n",
              "emi                    0.985801       0.991860      0.987928  1.000000  "
            ],
            "text/html": [
              "\n",
              "  <div id=\"df-6ee00f8f-9983-418a-b96a-be1b1f93ea95\">\n",
              "    <div class=\"colab-df-container\">\n",
              "      <div>\n",
              "<style scoped>\n",
              "    .dataframe tbody tr th:only-of-type {\n",
              "        vertical-align: middle;\n",
              "    }\n",
              "\n",
              "    .dataframe tbody tr th {\n",
              "        vertical-align: top;\n",
              "    }\n",
              "\n",
              "    .dataframe thead th {\n",
              "        text-align: right;\n",
              "    }\n",
              "</style>\n",
              "<table border=\"1\" class=\"dataframe\">\n",
              "  <thead>\n",
              "    <tr style=\"text-align: right;\">\n",
              "      <th></th>\n",
              "      <th>down_payment</th>\n",
              "      <th>loan_int_rate</th>\n",
              "      <th>tenure</th>\n",
              "      <th>loan_amount</th>\n",
              "      <th>bureau_credit_score</th>\n",
              "      <th>age</th>\n",
              "      <th>Deaths</th>\n",
              "      <th>Total Cases</th>\n",
              "      <th>amount_got</th>\n",
              "      <th>amount_repaid</th>\n",
              "      <th>intrest_paid</th>\n",
              "      <th>emi</th>\n",
              "    </tr>\n",
              "  </thead>\n",
              "  <tbody>\n",
              "    <tr>\n",
              "      <th>down_payment</th>\n",
              "      <td>1.000000</td>\n",
              "      <td>-0.092116</td>\n",
              "      <td>0.081642</td>\n",
              "      <td>0.250590</td>\n",
              "      <td>0.028499</td>\n",
              "      <td>0.084013</td>\n",
              "      <td>0.008219</td>\n",
              "      <td>0.017707</td>\n",
              "      <td>0.175042</td>\n",
              "      <td>0.235782</td>\n",
              "      <td>0.229282</td>\n",
              "      <td>0.251385</td>\n",
              "    </tr>\n",
              "    <tr>\n",
              "      <th>loan_int_rate</th>\n",
              "      <td>-0.092116</td>\n",
              "      <td>1.000000</td>\n",
              "      <td>-0.054459</td>\n",
              "      <td>-0.149744</td>\n",
              "      <td>0.004620</td>\n",
              "      <td>0.007308</td>\n",
              "      <td>-0.031419</td>\n",
              "      <td>-0.025501</td>\n",
              "      <td>-0.144939</td>\n",
              "      <td>-0.091876</td>\n",
              "      <td>-0.070610</td>\n",
              "      <td>-0.069787</td>\n",
              "    </tr>\n",
              "    <tr>\n",
              "      <th>tenure</th>\n",
              "      <td>0.081642</td>\n",
              "      <td>-0.054459</td>\n",
              "      <td>1.000000</td>\n",
              "      <td>0.416080</td>\n",
              "      <td>0.001719</td>\n",
              "      <td>0.117339</td>\n",
              "      <td>0.050445</td>\n",
              "      <td>0.064158</td>\n",
              "      <td>0.416642</td>\n",
              "      <td>0.450653</td>\n",
              "      <td>0.460836</td>\n",
              "      <td>0.402910</td>\n",
              "    </tr>\n",
              "    <tr>\n",
              "      <th>loan_amount</th>\n",
              "      <td>0.250590</td>\n",
              "      <td>-0.149744</td>\n",
              "      <td>0.416080</td>\n",
              "      <td>1.000000</td>\n",
              "      <td>0.049021</td>\n",
              "      <td>0.108890</td>\n",
              "      <td>0.026012</td>\n",
              "      <td>0.038069</td>\n",
              "      <td>0.997011</td>\n",
              "      <td>0.989787</td>\n",
              "      <td>0.981180</td>\n",
              "      <td>0.989040</td>\n",
              "    </tr>\n",
              "    <tr>\n",
              "      <th>bureau_credit_score</th>\n",
              "      <td>0.028499</td>\n",
              "      <td>0.004620</td>\n",
              "      <td>0.001719</td>\n",
              "      <td>0.049021</td>\n",
              "      <td>1.000000</td>\n",
              "      <td>0.062512</td>\n",
              "      <td>0.004299</td>\n",
              "      <td>0.010171</td>\n",
              "      <td>0.047580</td>\n",
              "      <td>0.048325</td>\n",
              "      <td>0.047834</td>\n",
              "      <td>0.048942</td>\n",
              "    </tr>\n",
              "    <tr>\n",
              "      <th>age</th>\n",
              "      <td>0.084013</td>\n",
              "      <td>0.007308</td>\n",
              "      <td>0.117339</td>\n",
              "      <td>0.108890</td>\n",
              "      <td>0.062512</td>\n",
              "      <td>1.000000</td>\n",
              "      <td>0.046804</td>\n",
              "      <td>0.059029</td>\n",
              "      <td>0.104037</td>\n",
              "      <td>0.107634</td>\n",
              "      <td>0.106645</td>\n",
              "      <td>0.113355</td>\n",
              "    </tr>\n",
              "    <tr>\n",
              "      <th>Deaths</th>\n",
              "      <td>0.008219</td>\n",
              "      <td>-0.031419</td>\n",
              "      <td>0.050445</td>\n",
              "      <td>0.026012</td>\n",
              "      <td>0.004299</td>\n",
              "      <td>0.046804</td>\n",
              "      <td>1.000000</td>\n",
              "      <td>0.929928</td>\n",
              "      <td>0.025798</td>\n",
              "      <td>0.024140</td>\n",
              "      <td>0.023346</td>\n",
              "      <td>0.023289</td>\n",
              "    </tr>\n",
              "    <tr>\n",
              "      <th>Total Cases</th>\n",
              "      <td>0.017707</td>\n",
              "      <td>-0.025501</td>\n",
              "      <td>0.064158</td>\n",
              "      <td>0.038069</td>\n",
              "      <td>0.010171</td>\n",
              "      <td>0.059029</td>\n",
              "      <td>0.929928</td>\n",
              "      <td>1.000000</td>\n",
              "      <td>0.037303</td>\n",
              "      <td>0.036316</td>\n",
              "      <td>0.035505</td>\n",
              "      <td>0.036009</td>\n",
              "    </tr>\n",
              "    <tr>\n",
              "      <th>amount_got</th>\n",
              "      <td>0.175042</td>\n",
              "      <td>-0.144939</td>\n",
              "      <td>0.416642</td>\n",
              "      <td>0.997011</td>\n",
              "      <td>0.047580</td>\n",
              "      <td>0.104037</td>\n",
              "      <td>0.025798</td>\n",
              "      <td>0.037303</td>\n",
              "      <td>1.000000</td>\n",
              "      <td>0.987806</td>\n",
              "      <td>0.979571</td>\n",
              "      <td>0.985801</td>\n",
              "    </tr>\n",
              "    <tr>\n",
              "      <th>amount_repaid</th>\n",
              "      <td>0.235782</td>\n",
              "      <td>-0.091876</td>\n",
              "      <td>0.450653</td>\n",
              "      <td>0.989787</td>\n",
              "      <td>0.048325</td>\n",
              "      <td>0.107634</td>\n",
              "      <td>0.024140</td>\n",
              "      <td>0.036316</td>\n",
              "      <td>0.987806</td>\n",
              "      <td>1.000000</td>\n",
              "      <td>0.998685</td>\n",
              "      <td>0.991860</td>\n",
              "    </tr>\n",
              "    <tr>\n",
              "      <th>intrest_paid</th>\n",
              "      <td>0.229282</td>\n",
              "      <td>-0.070610</td>\n",
              "      <td>0.460836</td>\n",
              "      <td>0.981180</td>\n",
              "      <td>0.047834</td>\n",
              "      <td>0.106645</td>\n",
              "      <td>0.023346</td>\n",
              "      <td>0.035505</td>\n",
              "      <td>0.979571</td>\n",
              "      <td>0.998685</td>\n",
              "      <td>1.000000</td>\n",
              "      <td>0.987928</td>\n",
              "    </tr>\n",
              "    <tr>\n",
              "      <th>emi</th>\n",
              "      <td>0.251385</td>\n",
              "      <td>-0.069787</td>\n",
              "      <td>0.402910</td>\n",
              "      <td>0.989040</td>\n",
              "      <td>0.048942</td>\n",
              "      <td>0.113355</td>\n",
              "      <td>0.023289</td>\n",
              "      <td>0.036009</td>\n",
              "      <td>0.985801</td>\n",
              "      <td>0.991860</td>\n",
              "      <td>0.987928</td>\n",
              "      <td>1.000000</td>\n",
              "    </tr>\n",
              "  </tbody>\n",
              "</table>\n",
              "</div>\n",
              "      <button class=\"colab-df-convert\" onclick=\"convertToInteractive('df-6ee00f8f-9983-418a-b96a-be1b1f93ea95')\"\n",
              "              title=\"Convert this dataframe to an interactive table.\"\n",
              "              style=\"display:none;\">\n",
              "        \n",
              "  <svg xmlns=\"http://www.w3.org/2000/svg\" height=\"24px\"viewBox=\"0 0 24 24\"\n",
              "       width=\"24px\">\n",
              "    <path d=\"M0 0h24v24H0V0z\" fill=\"none\"/>\n",
              "    <path d=\"M18.56 5.44l.94 2.06.94-2.06 2.06-.94-2.06-.94-.94-2.06-.94 2.06-2.06.94zm-11 1L8.5 8.5l.94-2.06 2.06-.94-2.06-.94L8.5 2.5l-.94 2.06-2.06.94zm10 10l.94 2.06.94-2.06 2.06-.94-2.06-.94-.94-2.06-.94 2.06-2.06.94z\"/><path d=\"M17.41 7.96l-1.37-1.37c-.4-.4-.92-.59-1.43-.59-.52 0-1.04.2-1.43.59L10.3 9.45l-7.72 7.72c-.78.78-.78 2.05 0 2.83L4 21.41c.39.39.9.59 1.41.59.51 0 1.02-.2 1.41-.59l7.78-7.78 2.81-2.81c.8-.78.8-2.07 0-2.86zM5.41 20L4 18.59l7.72-7.72 1.47 1.35L5.41 20z\"/>\n",
              "  </svg>\n",
              "      </button>\n",
              "      \n",
              "  <style>\n",
              "    .colab-df-container {\n",
              "      display:flex;\n",
              "      flex-wrap:wrap;\n",
              "      gap: 12px;\n",
              "    }\n",
              "\n",
              "    .colab-df-convert {\n",
              "      background-color: #E8F0FE;\n",
              "      border: none;\n",
              "      border-radius: 50%;\n",
              "      cursor: pointer;\n",
              "      display: none;\n",
              "      fill: #1967D2;\n",
              "      height: 32px;\n",
              "      padding: 0 0 0 0;\n",
              "      width: 32px;\n",
              "    }\n",
              "\n",
              "    .colab-df-convert:hover {\n",
              "      background-color: #E2EBFA;\n",
              "      box-shadow: 0px 1px 2px rgba(60, 64, 67, 0.3), 0px 1px 3px 1px rgba(60, 64, 67, 0.15);\n",
              "      fill: #174EA6;\n",
              "    }\n",
              "\n",
              "    [theme=dark] .colab-df-convert {\n",
              "      background-color: #3B4455;\n",
              "      fill: #D2E3FC;\n",
              "    }\n",
              "\n",
              "    [theme=dark] .colab-df-convert:hover {\n",
              "      background-color: #434B5C;\n",
              "      box-shadow: 0px 1px 3px 1px rgba(0, 0, 0, 0.15);\n",
              "      filter: drop-shadow(0px 1px 2px rgba(0, 0, 0, 0.3));\n",
              "      fill: #FFFFFF;\n",
              "    }\n",
              "  </style>\n",
              "\n",
              "      <script>\n",
              "        const buttonEl =\n",
              "          document.querySelector('#df-6ee00f8f-9983-418a-b96a-be1b1f93ea95 button.colab-df-convert');\n",
              "        buttonEl.style.display =\n",
              "          google.colab.kernel.accessAllowed ? 'block' : 'none';\n",
              "\n",
              "        async function convertToInteractive(key) {\n",
              "          const element = document.querySelector('#df-6ee00f8f-9983-418a-b96a-be1b1f93ea95');\n",
              "          const dataTable =\n",
              "            await google.colab.kernel.invokeFunction('convertToInteractive',\n",
              "                                                     [key], {});\n",
              "          if (!dataTable) return;\n",
              "\n",
              "          const docLinkHtml = 'Like what you see? Visit the ' +\n",
              "            '<a target=\"_blank\" href=https://colab.research.google.com/notebooks/data_table.ipynb>data table notebook</a>'\n",
              "            + ' to learn more about interactive tables.';\n",
              "          element.innerHTML = '';\n",
              "          dataTable['output_type'] = 'display_data';\n",
              "          await google.colab.output.renderOutput(dataTable, element);\n",
              "          const docLink = document.createElement('div');\n",
              "          docLink.innerHTML = docLinkHtml;\n",
              "          element.appendChild(docLink);\n",
              "        }\n",
              "      </script>\n",
              "    </div>\n",
              "  </div>\n",
              "  "
            ]
          },
          "metadata": {},
          "execution_count": 47
        }
      ]
    },
    {
      "cell_type": "code",
      "source": [
        "####### Insights from bivariate and multivariate analysis\n",
        "##### numerical values are uncorelated, only deaths and cases\n",
        "##### there is aprrox 400% and 35% change in average values of down payment and loan amount for who has opted motatorium and who has not\n",
        "######### more than 85% of people opted motatorium have opted sector A\n",
        "#### there are few states with people 50% of motatorium rate on an average is around 20%\n"
      ],
      "metadata": {
        "id": "X6hlAEX-DA5S"
      },
      "execution_count": 48,
      "outputs": []
    },
    {
      "cell_type": "code",
      "source": [
        "#### dropping city will try to include if we are not getting proper accuracies \n",
        "data.drop(columns=['city',\"State\",\"Deaths\",\"emi\",\"amount_got\",\"amount_repaid\",\"intrest_paid\"], inplace=True)"
      ],
      "metadata": {
        "id": "84jX5OU-E-O6"
      },
      "execution_count": 49,
      "outputs": []
    },
    {
      "cell_type": "code",
      "source": [
        "############## data prepartion and model building"
      ],
      "metadata": {
        "id": "i_lhJ8SoFG2s"
      },
      "execution_count": 50,
      "outputs": []
    },
    {
      "cell_type": "code",
      "source": [
        "X = data.drop(columns=['moratorium_optin'],axis=1)\n",
        "y = data['moratorium_optin']"
      ],
      "metadata": {
        "id": "ATXstZwYGTQ-"
      },
      "execution_count": 51,
      "outputs": []
    },
    {
      "cell_type": "code",
      "source": [
        "X.columns"
      ],
      "metadata": {
        "colab": {
          "base_uri": "https://localhost:8080/"
        },
        "id": "NWnNfdTdGtO9",
        "outputId": "bece4c13-62c3-488e-cdbb-2a07c6bba69f"
      },
      "execution_count": 52,
      "outputs": [
        {
          "output_type": "execute_result",
          "data": {
            "text/plain": [
              "Index(['down_payment', 'loan_int_rate', 'tenure', 'loan_amount', 'sector',\n",
              "       'mandate_source', 'gender', 'bureau_credit_score', 'age', 'zones',\n",
              "       'Total Cases', 'state_group', 'city_group'],\n",
              "      dtype='object')"
            ]
          },
          "metadata": {},
          "execution_count": 52
        }
      ]
    },
    {
      "cell_type": "code",
      "source": [
        "########## getting dummy variables\n",
        "X=pd.get_dummies(X,drop_first=True)\n"
      ],
      "metadata": {
        "id": "BVVYfyRuGp0E"
      },
      "execution_count": 53,
      "outputs": []
    },
    {
      "cell_type": "code",
      "source": [
        "##### standarizing numerical variables \n",
        "min_max_scaler = preprocessing.MinMaxScaler()\n",
        "x_scaled = min_max_scaler.fit_transform(X)\n",
        "x_scaled = pd.DataFrame(x_scaled)\n",
        "x_scaled.columns=X.columns"
      ],
      "metadata": {
        "id": "CbSV6lufIRhz"
      },
      "execution_count": 54,
      "outputs": []
    },
    {
      "cell_type": "code",
      "source": [
        "########## train_test_split in python\n",
        "X_train, X_test,y_train, y_test = train_test_split(x_scaled,y ,\n",
        "                                   random_state=104, \n",
        "                                   test_size=0.25, \n",
        "                                   shuffle=True)"
      ],
      "metadata": {
        "id": "ykQmA12rIlg7"
      },
      "execution_count": 55,
      "outputs": []
    },
    {
      "cell_type": "code",
      "source": [
        "########### rfe and logistic regression python"
      ],
      "metadata": {
        "id": "NQZCf-lwJvZE"
      },
      "execution_count": 56,
      "outputs": []
    },
    {
      "cell_type": "code",
      "source": [
        "#### logisctic regression model\n",
        "classifier = LogisticRegression(random_state=0,penalty= 'l2')\n",
        "classifier.fit(X_train, y_train)"
      ],
      "metadata": {
        "colab": {
          "base_uri": "https://localhost:8080/"
        },
        "id": "xRdk-MpmPYET",
        "outputId": "3f5e96ec-a9d2-40ba-e82b-d97e6d04e504"
      },
      "execution_count": 57,
      "outputs": [
        {
          "output_type": "execute_result",
          "data": {
            "text/plain": [
              "LogisticRegression(random_state=0)"
            ]
          },
          "metadata": {},
          "execution_count": 57
        }
      ]
    },
    {
      "cell_type": "code",
      "source": [
        "######## predicting on first data\n",
        "y_pred = classifier.predict(X_test)\n",
        "acc = accuracy_score(y_test,y_pred)\n",
        "prec = precision_score(y_test, y_pred)\n",
        "rec = recall_score(y_test, y_pred)\n",
        "f1 = f1_score(y_test,y_pred)\n",
        "results = pd.DataFrame([['Logistic Regression', acc,prec,rec,f1]],columns=['Model', 'Accuracy', 'Precision', 'Recall','F1 Score'])\n",
        "results"
      ],
      "metadata": {
        "colab": {
          "base_uri": "https://localhost:8080/",
          "height": 81
        },
        "id": "HYvAwVYyReIq",
        "outputId": "81f18899-7127-4b2b-9f1e-70bdfc01ad74"
      },
      "execution_count": 58,
      "outputs": [
        {
          "output_type": "execute_result",
          "data": {
            "text/plain": [
              "                 Model  Accuracy  Precision    Recall  F1 Score\n",
              "0  Logistic Regression  0.771467   0.692308  0.070628  0.128179"
            ],
            "text/html": [
              "\n",
              "  <div id=\"df-597a7388-b270-4d74-9a3f-334cea76e110\">\n",
              "    <div class=\"colab-df-container\">\n",
              "      <div>\n",
              "<style scoped>\n",
              "    .dataframe tbody tr th:only-of-type {\n",
              "        vertical-align: middle;\n",
              "    }\n",
              "\n",
              "    .dataframe tbody tr th {\n",
              "        vertical-align: top;\n",
              "    }\n",
              "\n",
              "    .dataframe thead th {\n",
              "        text-align: right;\n",
              "    }\n",
              "</style>\n",
              "<table border=\"1\" class=\"dataframe\">\n",
              "  <thead>\n",
              "    <tr style=\"text-align: right;\">\n",
              "      <th></th>\n",
              "      <th>Model</th>\n",
              "      <th>Accuracy</th>\n",
              "      <th>Precision</th>\n",
              "      <th>Recall</th>\n",
              "      <th>F1 Score</th>\n",
              "    </tr>\n",
              "  </thead>\n",
              "  <tbody>\n",
              "    <tr>\n",
              "      <th>0</th>\n",
              "      <td>Logistic Regression</td>\n",
              "      <td>0.771467</td>\n",
              "      <td>0.692308</td>\n",
              "      <td>0.070628</td>\n",
              "      <td>0.128179</td>\n",
              "    </tr>\n",
              "  </tbody>\n",
              "</table>\n",
              "</div>\n",
              "      <button class=\"colab-df-convert\" onclick=\"convertToInteractive('df-597a7388-b270-4d74-9a3f-334cea76e110')\"\n",
              "              title=\"Convert this dataframe to an interactive table.\"\n",
              "              style=\"display:none;\">\n",
              "        \n",
              "  <svg xmlns=\"http://www.w3.org/2000/svg\" height=\"24px\"viewBox=\"0 0 24 24\"\n",
              "       width=\"24px\">\n",
              "    <path d=\"M0 0h24v24H0V0z\" fill=\"none\"/>\n",
              "    <path d=\"M18.56 5.44l.94 2.06.94-2.06 2.06-.94-2.06-.94-.94-2.06-.94 2.06-2.06.94zm-11 1L8.5 8.5l.94-2.06 2.06-.94-2.06-.94L8.5 2.5l-.94 2.06-2.06.94zm10 10l.94 2.06.94-2.06 2.06-.94-2.06-.94-.94-2.06-.94 2.06-2.06.94z\"/><path d=\"M17.41 7.96l-1.37-1.37c-.4-.4-.92-.59-1.43-.59-.52 0-1.04.2-1.43.59L10.3 9.45l-7.72 7.72c-.78.78-.78 2.05 0 2.83L4 21.41c.39.39.9.59 1.41.59.51 0 1.02-.2 1.41-.59l7.78-7.78 2.81-2.81c.8-.78.8-2.07 0-2.86zM5.41 20L4 18.59l7.72-7.72 1.47 1.35L5.41 20z\"/>\n",
              "  </svg>\n",
              "      </button>\n",
              "      \n",
              "  <style>\n",
              "    .colab-df-container {\n",
              "      display:flex;\n",
              "      flex-wrap:wrap;\n",
              "      gap: 12px;\n",
              "    }\n",
              "\n",
              "    .colab-df-convert {\n",
              "      background-color: #E8F0FE;\n",
              "      border: none;\n",
              "      border-radius: 50%;\n",
              "      cursor: pointer;\n",
              "      display: none;\n",
              "      fill: #1967D2;\n",
              "      height: 32px;\n",
              "      padding: 0 0 0 0;\n",
              "      width: 32px;\n",
              "    }\n",
              "\n",
              "    .colab-df-convert:hover {\n",
              "      background-color: #E2EBFA;\n",
              "      box-shadow: 0px 1px 2px rgba(60, 64, 67, 0.3), 0px 1px 3px 1px rgba(60, 64, 67, 0.15);\n",
              "      fill: #174EA6;\n",
              "    }\n",
              "\n",
              "    [theme=dark] .colab-df-convert {\n",
              "      background-color: #3B4455;\n",
              "      fill: #D2E3FC;\n",
              "    }\n",
              "\n",
              "    [theme=dark] .colab-df-convert:hover {\n",
              "      background-color: #434B5C;\n",
              "      box-shadow: 0px 1px 3px 1px rgba(0, 0, 0, 0.15);\n",
              "      filter: drop-shadow(0px 1px 2px rgba(0, 0, 0, 0.3));\n",
              "      fill: #FFFFFF;\n",
              "    }\n",
              "  </style>\n",
              "\n",
              "      <script>\n",
              "        const buttonEl =\n",
              "          document.querySelector('#df-597a7388-b270-4d74-9a3f-334cea76e110 button.colab-df-convert');\n",
              "        buttonEl.style.display =\n",
              "          google.colab.kernel.accessAllowed ? 'block' : 'none';\n",
              "\n",
              "        async function convertToInteractive(key) {\n",
              "          const element = document.querySelector('#df-597a7388-b270-4d74-9a3f-334cea76e110');\n",
              "          const dataTable =\n",
              "            await google.colab.kernel.invokeFunction('convertToInteractive',\n",
              "                                                     [key], {});\n",
              "          if (!dataTable) return;\n",
              "\n",
              "          const docLinkHtml = 'Like what you see? Visit the ' +\n",
              "            '<a target=\"_blank\" href=https://colab.research.google.com/notebooks/data_table.ipynb>data table notebook</a>'\n",
              "            + ' to learn more about interactive tables.';\n",
              "          element.innerHTML = '';\n",
              "          dataTable['output_type'] = 'display_data';\n",
              "          await google.colab.output.renderOutput(dataTable, element);\n",
              "          const docLink = document.createElement('div');\n",
              "          docLink.innerHTML = docLinkHtml;\n",
              "          element.appendChild(docLink);\n",
              "        }\n",
              "      </script>\n",
              "    </div>\n",
              "  </div>\n",
              "  "
            ]
          },
          "metadata": {},
          "execution_count": 58
        }
      ]
    },
    {
      "cell_type": "code",
      "source": [
        "##### confusion matrix\n",
        "cm = confusion_matrix(y_test, y_pred) # rows = truth, cols = prediction\n",
        "df_cm = pd.DataFrame(cm, index = (0, 1), columns = (0, 1))\n",
        "plt.figure(figsize = (10,7))\n",
        "sns.set(font_scale=1.4)\n",
        "sns.heatmap(df_cm, annot=True, fmt='g')\n",
        "print(\"Test Data Accuracy: %0.4f\" % accuracy_score(y_test, y_pred)) "
      ],
      "metadata": {
        "colab": {
          "base_uri": "https://localhost:8080/",
          "height": 453
        },
        "id": "QCwm7vkSSIv7",
        "outputId": "5b1e7d2a-df62-45fa-bb2f-414fb67c4be0"
      },
      "execution_count": 59,
      "outputs": [
        {
          "output_type": "stream",
          "name": "stdout",
          "text": [
            "Test Data Accuracy: 0.7715\n"
          ]
        },
        {
          "output_type": "display_data",
          "data": {
            "text/plain": [
              "<Figure size 720x504 with 2 Axes>"
            ],
            "image/png": "[encoded data removed]"
          },
          "metadata": {
            "needs_background": "light"
          }
        }
      ]
    },
    {
      "cell_type": "code",
      "source": [
        "########### recursive feature selection"
      ],
      "metadata": {
        "id": "2__rDmuPSgOq"
      },
      "execution_count": 60,
      "outputs": []
    },
    {
      "cell_type": "code",
      "source": [
        "rfe = RFE(classifier, n_features_to_select= None)\n",
        "rfe = rfe.fit(X_train, y_train)\n"
      ],
      "metadata": {
        "id": "zFi9LAIbTSuN"
      },
      "execution_count": 61,
      "outputs": []
    },
    {
      "cell_type": "code",
      "source": [
        "#Summarize the selection of the attributes\n",
        "print(rfe.support_)\n",
        "print(rfe.ranking_)\n",
        "X_train.columns[rfe.support_]"
      ],
      "metadata": {
        "colab": {
          "base_uri": "https://localhost:8080/"
        },
        "id": "t-7Db5IUTTvN",
        "outputId": "1ff3d973-40af-4257-d6b0-c214ebbf15e8"
      },
      "execution_count": 62,
      "outputs": [
        {
          "output_type": "stream",
          "name": "stdout",
          "text": [
            "[ True  True  True  True False False False  True  True  True  True False\n",
            "  True False  True  True False False False False False False False False\n",
            " False  True False  True  True]\n",
            "[ 1  1  1  1 13 16  6  1  1  1  1 10  1 12  1  1 14 11  5  9  7  8  4  2\n",
            "  3  1 15  1  1]\n"
          ]
        },
        {
          "output_type": "execute_result",
          "data": {
            "text/plain": [
              "Index(['down_payment', 'loan_int_rate', 'tenure', 'loan_amount', 'sector_B',\n",
              "       'sector_C', 'sector_D', 'sector_E', 'sector_G', 'mandate_source_X',\n",
              "       'mandate_source_Y', 'state_group_L', 'city_group_L', 'city_group_M'],\n",
              "      dtype='object')"
            ]
          },
          "metadata": {},
          "execution_count": 62
        }
      ]
    },
    {
      "cell_type": "code",
      "source": [
        "# Reitting Model to the Training Set\n",
        "classifier = LogisticRegression(random_state=0, penalty= 'l2')\n",
        "classifier.fit(X_train[X_train.columns[rfe.support_]], y_train)\n",
        "\n",
        "# Predicting Test Set\n",
        "y_pred = classifier.predict(X_test[X_train.columns[rfe.support_]])\n",
        "acc = accuracy_score(y_test, y_pred)\n",
        "prec = precision_score(y_test, y_pred)\n",
        "rec = recall_score(y_test, y_pred)\n",
        "f1 = f1_score(y_test, y_pred)\n",
        "\n",
        "model_results = pd.DataFrame([['Logistic Regression RFE (Lasso)', acc, prec, rec, f1]],\n",
        "               columns = ['Model', 'Accuracy', 'Precision', 'Recall', 'F1 Score'])\n",
        "\n",
        "results = results.append(model_results, ignore_index = True)\n",
        "results"
      ],
      "metadata": {
        "colab": {
          "base_uri": "https://localhost:8080/",
          "height": 112
        },
        "id": "dAthg6gzTxuI",
        "outputId": "d477c4ce-f41f-48c8-b35c-98116ffc5079"
      },
      "execution_count": 63,
      "outputs": [
        {
          "output_type": "execute_result",
          "data": {
            "text/plain": [
              "                             Model  Accuracy  Precision    Recall  F1 Score\n",
              "0              Logistic Regression  0.771467   0.692308  0.070628  0.128179\n",
              "1  Logistic Regression RFE (Lasso)  0.772533   0.975610  0.044843  0.085745"
            ],
            "text/html": [
              "\n",
              "  <div id=\"df-758ca21a-7c5a-46cc-a41d-5b716422e14b\">\n",
              "    <div class=\"colab-df-container\">\n",
              "      <div>\n",
              "<style scoped>\n",
              "    .dataframe tbody tr th:only-of-type {\n",
              "        vertical-align: middle;\n",
              "    }\n",
              "\n",
              "    .dataframe tbody tr th {\n",
              "        vertical-align: top;\n",
              "    }\n",
              "\n",
              "    .dataframe thead th {\n",
              "        text-align: right;\n",
              "    }\n",
              "</style>\n",
              "<table border=\"1\" class=\"dataframe\">\n",
              "  <thead>\n",
              "    <tr style=\"text-align: right;\">\n",
              "      <th></th>\n",
              "      <th>Model</th>\n",
              "      <th>Accuracy</th>\n",
              "      <th>Precision</th>\n",
              "      <th>Recall</th>\n",
              "      <th>F1 Score</th>\n",
              "    </tr>\n",
              "  </thead>\n",
              "  <tbody>\n",
              "    <tr>\n",
              "      <th>0</th>\n",
              "      <td>Logistic Regression</td>\n",
              "      <td>0.771467</td>\n",
              "      <td>0.692308</td>\n",
              "      <td>0.070628</td>\n",
              "      <td>0.128179</td>\n",
              "    </tr>\n",
              "    <tr>\n",
              "      <th>1</th>\n",
              "      <td>Logistic Regression RFE (Lasso)</td>\n",
              "      <td>0.772533</td>\n",
              "      <td>0.975610</td>\n",
              "      <td>0.044843</td>\n",
              "      <td>0.085745</td>\n",
              "    </tr>\n",
              "  </tbody>\n",
              "</table>\n",
              "</div>\n",
              "      <button class=\"colab-df-convert\" onclick=\"convertToInteractive('df-758ca21a-7c5a-46cc-a41d-5b716422e14b')\"\n",
              "              title=\"Convert this dataframe to an interactive table.\"\n",
              "              style=\"display:none;\">\n",
              "        \n",
              "  <svg xmlns=\"http://www.w3.org/2000/svg\" height=\"24px\"viewBox=\"0 0 24 24\"\n",
              "       width=\"24px\">\n",
              "    <path d=\"M0 0h24v24H0V0z\" fill=\"none\"/>\n",
              "    <path d=\"M18.56 5.44l.94 2.06.94-2.06 2.06-.94-2.06-.94-.94-2.06-.94 2.06-2.06.94zm-11 1L8.5 8.5l.94-2.06 2.06-.94-2.06-.94L8.5 2.5l-.94 2.06-2.06.94zm10 10l.94 2.06.94-2.06 2.06-.94-2.06-.94-.94-2.06-.94 2.06-2.06.94z\"/><path d=\"M17.41 7.96l-1.37-1.37c-.4-.4-.92-.59-1.43-.59-.52 0-1.04.2-1.43.59L10.3 9.45l-7.72 7.72c-.78.78-.78 2.05 0 2.83L4 21.41c.39.39.9.59 1.41.59.51 0 1.02-.2 1.41-.59l7.78-7.78 2.81-2.81c.8-.78.8-2.07 0-2.86zM5.41 20L4 18.59l7.72-7.72 1.47 1.35L5.41 20z\"/>\n",
              "  </svg>\n",
              "      </button>\n",
              "      \n",
              "  <style>\n",
              "    .colab-df-container {\n",
              "      display:flex;\n",
              "      flex-wrap:wrap;\n",
              "      gap: 12px;\n",
              "    }\n",
              "\n",
              "    .colab-df-convert {\n",
              "      background-color: #E8F0FE;\n",
              "      border: none;\n",
              "      border-radius: 50%;\n",
              "      cursor: pointer;\n",
              "      display: none;\n",
              "      fill: #1967D2;\n",
              "      height: 32px;\n",
              "      padding: 0 0 0 0;\n",
              "      width: 32px;\n",
              "    }\n",
              "\n",
              "    .colab-df-convert:hover {\n",
              "      background-color: #E2EBFA;\n",
              "      box-shadow: 0px 1px 2px rgba(60, 64, 67, 0.3), 0px 1px 3px 1px rgba(60, 64, 67, 0.15);\n",
              "      fill: #174EA6;\n",
              "    }\n",
              "\n",
              "    [theme=dark] .colab-df-convert {\n",
              "      background-color: #3B4455;\n",
              "      fill: #D2E3FC;\n",
              "    }\n",
              "\n",
              "    [theme=dark] .colab-df-convert:hover {\n",
              "      background-color: #434B5C;\n",
              "      box-shadow: 0px 1px 3px 1px rgba(0, 0, 0, 0.15);\n",
              "      filter: drop-shadow(0px 1px 2px rgba(0, 0, 0, 0.3));\n",
              "      fill: #FFFFFF;\n",
              "    }\n",
              "  </style>\n",
              "\n",
              "      <script>\n",
              "        const buttonEl =\n",
              "          document.querySelector('#df-758ca21a-7c5a-46cc-a41d-5b716422e14b button.colab-df-convert');\n",
              "        buttonEl.style.display =\n",
              "          google.colab.kernel.accessAllowed ? 'block' : 'none';\n",
              "\n",
              "        async function convertToInteractive(key) {\n",
              "          const element = document.querySelector('#df-758ca21a-7c5a-46cc-a41d-5b716422e14b');\n",
              "          const dataTable =\n",
              "            await google.colab.kernel.invokeFunction('convertToInteractive',\n",
              "                                                     [key], {});\n",
              "          if (!dataTable) return;\n",
              "\n",
              "          const docLinkHtml = 'Like what you see? Visit the ' +\n",
              "            '<a target=\"_blank\" href=https://colab.research.google.com/notebooks/data_table.ipynb>data table notebook</a>'\n",
              "            + ' to learn more about interactive tables.';\n",
              "          element.innerHTML = '';\n",
              "          dataTable['output_type'] = 'display_data';\n",
              "          await google.colab.output.renderOutput(dataTable, element);\n",
              "          const docLink = document.createElement('div');\n",
              "          docLink.innerHTML = docLinkHtml;\n",
              "          element.appendChild(docLink);\n",
              "        }\n",
              "      </script>\n",
              "    </div>\n",
              "  </div>\n",
              "  "
            ]
          },
          "metadata": {},
          "execution_count": 63
        }
      ]
    },
    {
      "cell_type": "code",
      "source": [
        "########### random forest"
      ],
      "metadata": {
        "id": "0G-zpBiSUEpw"
      },
      "execution_count": 64,
      "outputs": []
    },
    {
      "cell_type": "code",
      "source": [
        "rf = RandomForestClassifier(n_estimators = 3000, random_state = 42,max_features=5)\n",
        "# Train the model on training data\n",
        "rf.fit(X_train, y_train);"
      ],
      "metadata": {
        "id": "GTrEm2P-V-xt"
      },
      "execution_count": 65,
      "outputs": []
    },
    {
      "cell_type": "code",
      "source": [
        "y_pred = rf.predict(X_test)\n",
        "acc = accuracy_score(y_test, y_pred)\n",
        "prec = precision_score(y_test, y_pred)\n",
        "rec = recall_score(y_test, y_pred)\n",
        "f1 = f1_score(y_test, y_pred)\n",
        "\n",
        "model_results = pd.DataFrame([['RandomForrest', acc, prec, rec, f1]],\n",
        "               columns = ['Model', 'Accuracy', 'Precision', 'Recall', 'F1 Score'])\n",
        "\n",
        "results = results.append(model_results, ignore_index = True)\n",
        "results"
      ],
      "metadata": {
        "colab": {
          "base_uri": "https://localhost:8080/",
          "height": 143
        },
        "id": "vXzQV7LZWOHw",
        "outputId": "8f1da865-e187-4fb1-df6e-7ec0243f7d93"
      },
      "execution_count": 66,
      "outputs": [
        {
          "output_type": "execute_result",
          "data": {
            "text/plain": [
              "                             Model  Accuracy  Precision    Recall  F1 Score\n",
              "0              Logistic Regression  0.771467   0.692308  0.070628  0.128179\n",
              "1  Logistic Regression RFE (Lasso)  0.772533   0.975610  0.044843  0.085745\n",
              "2                    RandomForrest  0.749333   0.451807  0.252242  0.323741"
            ],
            "text/html": [
              "\n",
              "  <div id=\"df-d8ea09b4-afa4-4593-92ea-f42dac89063f\">\n",
              "    <div class=\"colab-df-container\">\n",
              "      <div>\n",
              "<style scoped>\n",
              "    .dataframe tbody tr th:only-of-type {\n",
              "        vertical-align: middle;\n",
              "    }\n",
              "\n",
              "    .dataframe tbody tr th {\n",
              "        vertical-align: top;\n",
              "    }\n",
              "\n",
              "    .dataframe thead th {\n",
              "        text-align: right;\n",
              "    }\n",
              "</style>\n",
              "<table border=\"1\" class=\"dataframe\">\n",
              "  <thead>\n",
              "    <tr style=\"text-align: right;\">\n",
              "      <th></th>\n",
              "      <th>Model</th>\n",
              "      <th>Accuracy</th>\n",
              "      <th>Precision</th>\n",
              "      <th>Recall</th>\n",
              "      <th>F1 Score</th>\n",
              "    </tr>\n",
              "  </thead>\n",
              "  <tbody>\n",
              "    <tr>\n",
              "      <th>0</th>\n",
              "      <td>Logistic Regression</td>\n",
              "      <td>0.771467</td>\n",
              "      <td>0.692308</td>\n",
              "      <td>0.070628</td>\n",
              "      <td>0.128179</td>\n",
              "    </tr>\n",
              "    <tr>\n",
              "      <th>1</th>\n",
              "      <td>Logistic Regression RFE (Lasso)</td>\n",
              "      <td>0.772533</td>\n",
              "      <td>0.975610</td>\n",
              "      <td>0.044843</td>\n",
              "      <td>0.085745</td>\n",
              "    </tr>\n",
              "    <tr>\n",
              "      <th>2</th>\n",
              "      <td>RandomForrest</td>\n",
              "      <td>0.749333</td>\n",
              "      <td>0.451807</td>\n",
              "      <td>0.252242</td>\n",
              "      <td>0.323741</td>\n",
              "    </tr>\n",
              "  </tbody>\n",
              "</table>\n",
              "</div>\n",
              "      <button class=\"colab-df-convert\" onclick=\"convertToInteractive('df-d8ea09b4-afa4-4593-92ea-f42dac89063f')\"\n",
              "              title=\"Convert this dataframe to an interactive table.\"\n",
              "              style=\"display:none;\">\n",
              "        \n",
              "  <svg xmlns=\"http://www.w3.org/2000/svg\" height=\"24px\"viewBox=\"0 0 24 24\"\n",
              "       width=\"24px\">\n",
              "    <path d=\"M0 0h24v24H0V0z\" fill=\"none\"/>\n",
              "    <path d=\"M18.56 5.44l.94 2.06.94-2.06 2.06-.94-2.06-.94-.94-2.06-.94 2.06-2.06.94zm-11 1L8.5 8.5l.94-2.06 2.06-.94-2.06-.94L8.5 2.5l-.94 2.06-2.06.94zm10 10l.94 2.06.94-2.06 2.06-.94-2.06-.94-.94-2.06-.94 2.06-2.06.94z\"/><path d=\"M17.41 7.96l-1.37-1.37c-.4-.4-.92-.59-1.43-.59-.52 0-1.04.2-1.43.59L10.3 9.45l-7.72 7.72c-.78.78-.78 2.05 0 2.83L4 21.41c.39.39.9.59 1.41.59.51 0 1.02-.2 1.41-.59l7.78-7.78 2.81-2.81c.8-.78.8-2.07 0-2.86zM5.41 20L4 18.59l7.72-7.72 1.47 1.35L5.41 20z\"/>\n",
              "  </svg>\n",
              "      </button>\n",
              "      \n",
              "  <style>\n",
              "    .colab-df-container {\n",
              "      display:flex;\n",
              "      flex-wrap:wrap;\n",
              "      gap: 12px;\n",
              "    }\n",
              "\n",
              "    .colab-df-convert {\n",
              "      background-color: #E8F0FE;\n",
              "      border: none;\n",
              "      border-radius: 50%;\n",
              "      cursor: pointer;\n",
              "      display: none;\n",
              "      fill: #1967D2;\n",
              "      height: 32px;\n",
              "      padding: 0 0 0 0;\n",
              "      width: 32px;\n",
              "    }\n",
              "\n",
              "    .colab-df-convert:hover {\n",
              "      background-color: #E2EBFA;\n",
              "      box-shadow: 0px 1px 2px rgba(60, 64, 67, 0.3), 0px 1px 3px 1px rgba(60, 64, 67, 0.15);\n",
              "      fill: #174EA6;\n",
              "    }\n",
              "\n",
              "    [theme=dark] .colab-df-convert {\n",
              "      background-color: #3B4455;\n",
              "      fill: #D2E3FC;\n",
              "    }\n",
              "\n",
              "    [theme=dark] .colab-df-convert:hover {\n",
              "      background-color: #434B5C;\n",
              "      box-shadow: 0px 1px 3px 1px rgba(0, 0, 0, 0.15);\n",
              "      filter: drop-shadow(0px 1px 2px rgba(0, 0, 0, 0.3));\n",
              "      fill: #FFFFFF;\n",
              "    }\n",
              "  </style>\n",
              "\n",
              "      <script>\n",
              "        const buttonEl =\n",
              "          document.querySelector('#df-d8ea09b4-afa4-4593-92ea-f42dac89063f button.colab-df-convert');\n",
              "        buttonEl.style.display =\n",
              "          google.colab.kernel.accessAllowed ? 'block' : 'none';\n",
              "\n",
              "        async function convertToInteractive(key) {\n",
              "          const element = document.querySelector('#df-d8ea09b4-afa4-4593-92ea-f42dac89063f');\n",
              "          const dataTable =\n",
              "            await google.colab.kernel.invokeFunction('convertToInteractive',\n",
              "                                                     [key], {});\n",
              "          if (!dataTable) return;\n",
              "\n",
              "          const docLinkHtml = 'Like what you see? Visit the ' +\n",
              "            '<a target=\"_blank\" href=https://colab.research.google.com/notebooks/data_table.ipynb>data table notebook</a>'\n",
              "            + ' to learn more about interactive tables.';\n",
              "          element.innerHTML = '';\n",
              "          dataTable['output_type'] = 'display_data';\n",
              "          await google.colab.output.renderOutput(dataTable, element);\n",
              "          const docLink = document.createElement('div');\n",
              "          docLink.innerHTML = docLinkHtml;\n",
              "          element.appendChild(docLink);\n",
              "        }\n",
              "      </script>\n",
              "    </div>\n",
              "  </div>\n",
              "  "
            ]
          },
          "metadata": {},
          "execution_count": 66
        }
      ]
    },
    {
      "cell_type": "code",
      "source": [
        "cm = confusion_matrix(y_test, y_pred) # rows = truth, cols = prediction\n",
        "df_cm = pd.DataFrame(cm, index = (0, 1), columns = (0, 1))\n",
        "plt.figure(figsize = (10,7))\n",
        "sns.set(font_scale=1.4)\n",
        "sns.heatmap(df_cm, annot=True, fmt='g')\n",
        "print(\"Test Data Accuracy: %0.4f\" % accuracy_score(y_test, y_pred)) "
      ],
      "metadata": {
        "colab": {
          "base_uri": "https://localhost:8080/",
          "height": 453
        },
        "id": "oDLCovYdWfd0",
        "outputId": "ca0bb5d8-089c-4b24-cc5c-955f2205b12d"
      },
      "execution_count": 67,
      "outputs": [
        {
          "output_type": "stream",
          "name": "stdout",
          "text": [
            "Test Data Accuracy: 0.7493\n"
          ]
        },
        {
          "output_type": "display_data",
          "data": {
            "text/plain": [
              "<Figure size 720x504 with 2 Axes>"
            ],
            "image/png": "[encoded data removed]"
          },
          "metadata": {}
        }
      ]
    },
    {
      "cell_type": "code",
      "source": [
        "X_train.columns"
      ],
      "metadata": {
        "colab": {
          "base_uri": "https://localhost:8080/"
        },
        "id": "P4FGhIkbXzEi",
        "outputId": "6127c5f4-1319-40b4-97b4-30c2d6c471e7"
      },
      "execution_count": 68,
      "outputs": [
        {
          "output_type": "execute_result",
          "data": {
            "text/plain": [
              "Index(['down_payment', 'loan_int_rate', 'tenure', 'loan_amount',\n",
              "       'bureau_credit_score', 'age', 'Total Cases', 'sector_B', 'sector_C',\n",
              "       'sector_D', 'sector_E', 'sector_F', 'sector_G', 'mandate_source_W',\n",
              "       'mandate_source_X', 'mandate_source_Y', 'mandate_source_Z', 'gender_M',\n",
              "       'zones_2', 'zones_3', 'zones_4', 'zones_5', 'zones_6', 'zones_7',\n",
              "       'zones_8', 'state_group_L', 'state_group_M', 'city_group_L',\n",
              "       'city_group_M'],\n",
              "      dtype='object')"
            ]
          },
          "metadata": {},
          "execution_count": 68
        }
      ]
    },
    {
      "cell_type": "code",
      "source": [
        "############### trying svms\n",
        "svms = svm.SVC(kernel = 'linear')\n",
        "svms.fit(X_train, y_train)"
      ],
      "metadata": {
        "colab": {
          "base_uri": "https://localhost:8080/"
        },
        "id": "sHoI0TUydBng",
        "outputId": "5c7caa49-af63-4561-d2cf-10dfae151de6"
      },
      "execution_count": 79,
      "outputs": [
        {
          "output_type": "execute_result",
          "data": {
            "text/plain": [
              "SVC(kernel='linear')"
            ]
          },
          "metadata": {},
          "execution_count": 79
        }
      ]
    },
    {
      "cell_type": "code",
      "source": [
        "y_pred = svms.predict(X_test)\n",
        "acc = accuracy_score(y_test, y_pred)\n",
        "prec = precision_score(y_test, y_pred)\n",
        "rec = recall_score(y_test, y_pred)\n",
        "f1 = f1_score(y_test, y_pred)\n",
        "\n",
        "model_results = pd.DataFrame([['SVM', acc, prec, rec, f1]],\n",
        "               columns = ['Model', 'Accuracy', 'Precision', 'Recall', 'F1 Score'])\n"
      ],
      "metadata": {
        "id": "H1sYT7Xt8dvb"
      },
      "execution_count": 80,
      "outputs": []
    },
    {
      "cell_type": "code",
      "source": [
        "model_results\n"
      ],
      "metadata": {
        "id": "C0H4FFWk8psy",
        "outputId": "0d7daf7f-b0cd-4b5d-bf5d-6ddcc508b948",
        "colab": {
          "base_uri": "https://localhost:8080/",
          "height": 81
        }
      },
      "execution_count": 81,
      "outputs": [
        {
          "output_type": "execute_result",
          "data": {
            "text/plain": [
              "  Model  Accuracy  Precision    Recall  F1 Score\n",
              "0   SVM  0.772533    0.97561  0.044843  0.085745"
            ],
            "text/html": [
              "\n",
              "  <div id=\"df-ef818018-2a18-4101-babd-014a11a677c7\">\n",
              "    <div class=\"colab-df-container\">\n",
              "      <div>\n",
              "<style scoped>\n",
              "    .dataframe tbody tr th:only-of-type {\n",
              "        vertical-align: middle;\n",
              "    }\n",
              "\n",
              "    .dataframe tbody tr th {\n",
              "        vertical-align: top;\n",
              "    }\n",
              "\n",
              "    .dataframe thead th {\n",
              "        text-align: right;\n",
              "    }\n",
              "</style>\n",
              "<table border=\"1\" class=\"dataframe\">\n",
              "  <thead>\n",
              "    <tr style=\"text-align: right;\">\n",
              "      <th></th>\n",
              "      <th>Model</th>\n",
              "      <th>Accuracy</th>\n",
              "      <th>Precision</th>\n",
              "      <th>Recall</th>\n",
              "      <th>F1 Score</th>\n",
              "    </tr>\n",
              "  </thead>\n",
              "  <tbody>\n",
              "    <tr>\n",
              "      <th>0</th>\n",
              "      <td>SVM</td>\n",
              "      <td>0.772533</td>\n",
              "      <td>0.97561</td>\n",
              "      <td>0.044843</td>\n",
              "      <td>0.085745</td>\n",
              "    </tr>\n",
              "  </tbody>\n",
              "</table>\n",
              "</div>\n",
              "      <button class=\"colab-df-convert\" onclick=\"convertToInteractive('df-ef818018-2a18-4101-babd-014a11a677c7')\"\n",
              "              title=\"Convert this dataframe to an interactive table.\"\n",
              "              style=\"display:none;\">\n",
              "        \n",
              "  <svg xmlns=\"http://www.w3.org/2000/svg\" height=\"24px\"viewBox=\"0 0 24 24\"\n",
              "       width=\"24px\">\n",
              "    <path d=\"M0 0h24v24H0V0z\" fill=\"none\"/>\n",
              "    <path d=\"M18.56 5.44l.94 2.06.94-2.06 2.06-.94-2.06-.94-.94-2.06-.94 2.06-2.06.94zm-11 1L8.5 8.5l.94-2.06 2.06-.94-2.06-.94L8.5 2.5l-.94 2.06-2.06.94zm10 10l.94 2.06.94-2.06 2.06-.94-2.06-.94-.94-2.06-.94 2.06-2.06.94z\"/><path d=\"M17.41 7.96l-1.37-1.37c-.4-.4-.92-.59-1.43-.59-.52 0-1.04.2-1.43.59L10.3 9.45l-7.72 7.72c-.78.78-.78 2.05 0 2.83L4 21.41c.39.39.9.59 1.41.59.51 0 1.02-.2 1.41-.59l7.78-7.78 2.81-2.81c.8-.78.8-2.07 0-2.86zM5.41 20L4 18.59l7.72-7.72 1.47 1.35L5.41 20z\"/>\n",
              "  </svg>\n",
              "      </button>\n",
              "      \n",
              "  <style>\n",
              "    .colab-df-container {\n",
              "      display:flex;\n",
              "      flex-wrap:wrap;\n",
              "      gap: 12px;\n",
              "    }\n",
              "\n",
              "    .colab-df-convert {\n",
              "      background-color: #E8F0FE;\n",
              "      border: none;\n",
              "      border-radius: 50%;\n",
              "      cursor: pointer;\n",
              "      display: none;\n",
              "      fill: #1967D2;\n",
              "      height: 32px;\n",
              "      padding: 0 0 0 0;\n",
              "      width: 32px;\n",
              "    }\n",
              "\n",
              "    .colab-df-convert:hover {\n",
              "      background-color: #E2EBFA;\n",
              "      box-shadow: 0px 1px 2px rgba(60, 64, 67, 0.3), 0px 1px 3px 1px rgba(60, 64, 67, 0.15);\n",
              "      fill: #174EA6;\n",
              "    }\n",
              "\n",
              "    [theme=dark] .colab-df-convert {\n",
              "      background-color: #3B4455;\n",
              "      fill: #D2E3FC;\n",
              "    }\n",
              "\n",
              "    [theme=dark] .colab-df-convert:hover {\n",
              "      background-color: #434B5C;\n",
              "      box-shadow: 0px 1px 3px 1px rgba(0, 0, 0, 0.15);\n",
              "      filter: drop-shadow(0px 1px 2px rgba(0, 0, 0, 0.3));\n",
              "      fill: #FFFFFF;\n",
              "    }\n",
              "  </style>\n",
              "\n",
              "      <script>\n",
              "        const buttonEl =\n",
              "          document.querySelector('#df-ef818018-2a18-4101-babd-014a11a677c7 button.colab-df-convert');\n",
              "        buttonEl.style.display =\n",
              "          google.colab.kernel.accessAllowed ? 'block' : 'none';\n",
              "\n",
              "        async function convertToInteractive(key) {\n",
              "          const element = document.querySelector('#df-ef818018-2a18-4101-babd-014a11a677c7');\n",
              "          const dataTable =\n",
              "            await google.colab.kernel.invokeFunction('convertToInteractive',\n",
              "                                                     [key], {});\n",
              "          if (!dataTable) return;\n",
              "\n",
              "          const docLinkHtml = 'Like what you see? Visit the ' +\n",
              "            '<a target=\"_blank\" href=https://colab.research.google.com/notebooks/data_table.ipynb>data table notebook</a>'\n",
              "            + ' to learn more about interactive tables.';\n",
              "          element.innerHTML = '';\n",
              "          dataTable['output_type'] = 'display_data';\n",
              "          await google.colab.output.renderOutput(dataTable, element);\n",
              "          const docLink = document.createElement('div');\n",
              "          docLink.innerHTML = docLinkHtml;\n",
              "          element.appendChild(docLink);\n",
              "        }\n",
              "      </script>\n",
              "    </div>\n",
              "  </div>\n",
              "  "
            ]
          },
          "metadata": {},
          "execution_count": 81
        }
      ]
    },
    {
      "cell_type": "code",
      "source": [],
      "metadata": {
        "id": "5cxqFpG28tQl"
      },
      "execution_count": null,
      "outputs": []
    }
  ],
  "metadata": {
    "colab": {
      "name": "Welcome To Colaboratory",
      "provenance": [],
      "include_colab_link": true
    },
    "kernelspec": {
      "display_name": "Python 3",
      "name": "python3"
    }
  },
  "nbformat": 4,
  "nbformat_minor": 0
}